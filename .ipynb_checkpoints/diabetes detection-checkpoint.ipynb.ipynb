{
 "cells": [
  {
   "cell_type": "code",
   "execution_count": 4,
   "id": "7afb2540-9a3b-43d4-8f2c-b2a6ee9299be",
   "metadata": {},
   "outputs": [
    {
     "name": "stdout",
     "output_type": "stream",
     "text": [
      "Collecting seaborn\n",
      "  Using cached seaborn-0.13.2-py3-none-any.whl.metadata (5.4 kB)\n",
      "Requirement already satisfied: numpy!=1.24.0,>=1.20 in c:\\users\\barat\\miniconda3\\envs\\myenv\\lib\\site-packages (from seaborn) (2.0.1)\n",
      "Requirement already satisfied: pandas>=1.2 in c:\\users\\barat\\miniconda3\\envs\\myenv\\lib\\site-packages (from seaborn) (2.2.3)\n",
      "Requirement already satisfied: matplotlib!=3.6.1,>=3.4 in c:\\users\\barat\\miniconda3\\envs\\myenv\\lib\\site-packages (from seaborn) (3.10.0)\n",
      "Requirement already satisfied: contourpy>=1.0.1 in c:\\users\\barat\\miniconda3\\envs\\myenv\\lib\\site-packages (from matplotlib!=3.6.1,>=3.4->seaborn) (1.3.1)\n",
      "Requirement already satisfied: cycler>=0.10 in c:\\users\\barat\\miniconda3\\envs\\myenv\\lib\\site-packages (from matplotlib!=3.6.1,>=3.4->seaborn) (0.11.0)\n",
      "Requirement already satisfied: fonttools>=4.22.0 in c:\\users\\barat\\miniconda3\\envs\\myenv\\lib\\site-packages (from matplotlib!=3.6.1,>=3.4->seaborn) (4.55.3)\n",
      "Requirement already satisfied: kiwisolver>=1.3.1 in c:\\users\\barat\\miniconda3\\envs\\myenv\\lib\\site-packages (from matplotlib!=3.6.1,>=3.4->seaborn) (1.4.8)\n",
      "Requirement already satisfied: packaging>=20.0 in c:\\users\\barat\\miniconda3\\envs\\myenv\\lib\\site-packages (from matplotlib!=3.6.1,>=3.4->seaborn) (24.2)\n",
      "Requirement already satisfied: pillow>=8 in c:\\users\\barat\\miniconda3\\envs\\myenv\\lib\\site-packages (from matplotlib!=3.6.1,>=3.4->seaborn) (11.1.0)\n",
      "Requirement already satisfied: pyparsing>=2.3.1 in c:\\users\\barat\\miniconda3\\envs\\myenv\\lib\\site-packages (from matplotlib!=3.6.1,>=3.4->seaborn) (3.2.0)\n",
      "Requirement already satisfied: python-dateutil>=2.7 in c:\\users\\barat\\miniconda3\\envs\\myenv\\lib\\site-packages (from matplotlib!=3.6.1,>=3.4->seaborn) (2.9.0.post0)\n",
      "Requirement already satisfied: pytz>=2020.1 in c:\\users\\barat\\miniconda3\\envs\\myenv\\lib\\site-packages (from pandas>=1.2->seaborn) (2024.1)\n",
      "Requirement already satisfied: tzdata>=2022.7 in c:\\users\\barat\\miniconda3\\envs\\myenv\\lib\\site-packages (from pandas>=1.2->seaborn) (2023.3)\n",
      "Requirement already satisfied: six>=1.5 in c:\\users\\barat\\miniconda3\\envs\\myenv\\lib\\site-packages (from python-dateutil>=2.7->matplotlib!=3.6.1,>=3.4->seaborn) (1.16.0)\n",
      "Using cached seaborn-0.13.2-py3-none-any.whl (294 kB)\n",
      "Installing collected packages: seaborn\n",
      "Successfully installed seaborn-0.13.2\n"
     ]
    }
   ],
   "source": [
    "!pip install seaborn"
   ]
  },
  {
   "cell_type": "markdown",
   "id": "1c716ac3-b09b-434e-bbbd-6181965dff99",
   "metadata": {},
   "source": [
    "# Step 1: Import Libraries"
   ]
  },
  {
   "cell_type": "code",
   "execution_count": 1,
   "id": "81dac5a3-70fb-41c7-aa25-73e0443061d3",
   "metadata": {},
   "outputs": [
    {
     "name": "stderr",
     "output_type": "stream",
     "text": [
      "C:\\Users\\barat\\miniconda3\\envs\\myenv\\lib\\site-packages\\h5py\\__init__.py:36: UserWarning: h5py is running against HDF5 1.14.6 when it was built against 1.14.5, this may cause problems\n",
      "  _warn((\"h5py is running against HDF5 {0} when it was built against {1}, \"\n"
     ]
    }
   ],
   "source": [
    "# just for a remainder its just a core libraries\n",
    "import  numpy as np\n",
    "import pandas as pd\n",
    "\n",
    "#visualation\n",
    "import matplotlib.pyplot as plt\n",
    "import seaborn as sns\n",
    "\n",
    "#its machine learning sci-kit learn\n",
    "from sklearn.model_selection import train_test_split\n",
    "from sklearn.preprocessing import StandardScaler\n",
    "from sklearn.metrics import classification_report, confusion_matrix\n",
    "\n",
    "#deep learning (tensorflow)\n",
    "import tensorflow as tf\n",
    "from tensorflow import keras\n",
    "from tensorflow.keras import layers\n"
   ]
  },
  {
   "cell_type": "markdown",
   "id": "5181114a-b196-4dee-91c8-9b81d1a7b43e",
   "metadata": {},
   "source": [
    "#  Step 2: Load Dataset"
   ]
  },
  {
   "cell_type": "code",
   "execution_count": 2,
   "id": "bb403bab-fe0a-4c8c-8650-287b9b5244b1",
   "metadata": {},
   "outputs": [
    {
     "data": {
      "text/html": [
       "<div>\n",
       "<style scoped>\n",
       "    .dataframe tbody tr th:only-of-type {\n",
       "        vertical-align: middle;\n",
       "    }\n",
       "\n",
       "    .dataframe tbody tr th {\n",
       "        vertical-align: top;\n",
       "    }\n",
       "\n",
       "    .dataframe thead th {\n",
       "        text-align: right;\n",
       "    }\n",
       "</style>\n",
       "<table border=\"1\" class=\"dataframe\">\n",
       "  <thead>\n",
       "    <tr style=\"text-align: right;\">\n",
       "      <th></th>\n",
       "      <th>Pregnancies</th>\n",
       "      <th>Glucose</th>\n",
       "      <th>BloodPressure</th>\n",
       "      <th>SkinThickness</th>\n",
       "      <th>Insulin</th>\n",
       "      <th>BMI</th>\n",
       "      <th>DiabetesPedigreeFunction</th>\n",
       "      <th>Age</th>\n",
       "      <th>Outcome</th>\n",
       "    </tr>\n",
       "  </thead>\n",
       "  <tbody>\n",
       "    <tr>\n",
       "      <th>0</th>\n",
       "      <td>6</td>\n",
       "      <td>148</td>\n",
       "      <td>72</td>\n",
       "      <td>35</td>\n",
       "      <td>0</td>\n",
       "      <td>33.6</td>\n",
       "      <td>0.627</td>\n",
       "      <td>50</td>\n",
       "      <td>1</td>\n",
       "    </tr>\n",
       "    <tr>\n",
       "      <th>1</th>\n",
       "      <td>1</td>\n",
       "      <td>85</td>\n",
       "      <td>66</td>\n",
       "      <td>29</td>\n",
       "      <td>0</td>\n",
       "      <td>26.6</td>\n",
       "      <td>0.351</td>\n",
       "      <td>31</td>\n",
       "      <td>0</td>\n",
       "    </tr>\n",
       "    <tr>\n",
       "      <th>2</th>\n",
       "      <td>8</td>\n",
       "      <td>183</td>\n",
       "      <td>64</td>\n",
       "      <td>0</td>\n",
       "      <td>0</td>\n",
       "      <td>23.3</td>\n",
       "      <td>0.672</td>\n",
       "      <td>32</td>\n",
       "      <td>1</td>\n",
       "    </tr>\n",
       "    <tr>\n",
       "      <th>3</th>\n",
       "      <td>1</td>\n",
       "      <td>89</td>\n",
       "      <td>66</td>\n",
       "      <td>23</td>\n",
       "      <td>94</td>\n",
       "      <td>28.1</td>\n",
       "      <td>0.167</td>\n",
       "      <td>21</td>\n",
       "      <td>0</td>\n",
       "    </tr>\n",
       "    <tr>\n",
       "      <th>4</th>\n",
       "      <td>0</td>\n",
       "      <td>137</td>\n",
       "      <td>40</td>\n",
       "      <td>35</td>\n",
       "      <td>168</td>\n",
       "      <td>43.1</td>\n",
       "      <td>2.288</td>\n",
       "      <td>33</td>\n",
       "      <td>1</td>\n",
       "    </tr>\n",
       "  </tbody>\n",
       "</table>\n",
       "</div>"
      ],
      "text/plain": [
       "   Pregnancies  Glucose  BloodPressure  SkinThickness  Insulin   BMI  \\\n",
       "0            6      148             72             35        0  33.6   \n",
       "1            1       85             66             29        0  26.6   \n",
       "2            8      183             64              0        0  23.3   \n",
       "3            1       89             66             23       94  28.1   \n",
       "4            0      137             40             35      168  43.1   \n",
       "\n",
       "   DiabetesPedigreeFunction  Age  Outcome  \n",
       "0                     0.627   50        1  \n",
       "1                     0.351   31        0  \n",
       "2                     0.672   32        1  \n",
       "3                     0.167   21        0  \n",
       "4                     2.288   33        1  "
      ]
     },
     "execution_count": 2,
     "metadata": {},
     "output_type": "execute_result"
    }
   ],
   "source": [
    "# Load dataset directly from URL\n",
    "url = \"https://raw.githubusercontent.com/jbrownlee/Datasets/master/pima-indians-diabetes.data.csv\"\n",
    "columns = [\n",
    "    \"Pregnancies\", \"Glucose\", \"BloodPressure\", \"SkinThickness\",\n",
    "    \"Insulin\", \"BMI\", \"DiabetesPedigreeFunction\", \"Age\", \"Outcome\"\n",
    "]\n",
    "\n",
    "# Read the dataset into a pandas DataFrame\n",
    "df = pd.read_csv(url, names=columns)\n",
    "\n",
    "# Show the first 5 rows\n",
    "df.head()\n"
   ]
  },
  {
   "cell_type": "markdown",
   "id": "d0f02794-48bc-4327-b1b8-4e1c4306007a",
   "metadata": {},
   "source": [
    "#  STEP 3:DATA EXPLORATION (EDA - Exploratory Data Analysis)\n"
   ]
  },
  {
   "cell_type": "code",
   "execution_count": 3,
   "id": "7f46d4e7-3f2f-46f1-9a0b-d57e9af5e3b2",
   "metadata": {},
   "outputs": [
    {
     "name": "stdout",
     "output_type": "stream",
     "text": [
      "Data Shape: (768, 9)\n",
      "<class 'pandas.core.frame.DataFrame'>\n",
      "RangeIndex: 768 entries, 0 to 767\n",
      "Data columns (total 9 columns):\n",
      " #   Column                    Non-Null Count  Dtype  \n",
      "---  ------                    --------------  -----  \n",
      " 0   Pregnancies               768 non-null    int64  \n",
      " 1   Glucose                   768 non-null    int64  \n",
      " 2   BloodPressure             768 non-null    int64  \n",
      " 3   SkinThickness             768 non-null    int64  \n",
      " 4   Insulin                   768 non-null    int64  \n",
      " 5   BMI                       768 non-null    float64\n",
      " 6   DiabetesPedigreeFunction  768 non-null    float64\n",
      " 7   Age                       768 non-null    int64  \n",
      " 8   Outcome                   768 non-null    int64  \n",
      "dtypes: float64(2), int64(7)\n",
      "memory usage: 54.1 KB\n",
      "\n",
      "Missing values in each column:\n",
      "Pregnancies                 0\n",
      "Glucose                     0\n",
      "BloodPressure               0\n",
      "SkinThickness               0\n",
      "Insulin                     0\n",
      "BMI                         0\n",
      "DiabetesPedigreeFunction    0\n",
      "Age                         0\n",
      "Outcome                     0\n",
      "dtype: int64\n"
     ]
    }
   ],
   "source": [
    "#Shape the dataset (rows,columns)\n",
    "print(\"Data Shape:\",df.shape)\n",
    "\n",
    "# quick info : data types, non null values\n",
    "df.info()\n",
    "\n",
    "#check if they are any missing value !!!!!!!!!\n",
    "print(\"\\nMissing values in each column:\")\n",
    "print(df.isnull().sum())"
   ]
  },
  {
   "cell_type": "markdown",
   "id": "d0f5f1ba-cadc-4609-ae08-68146e251510",
   "metadata": {},
   "source": [
    "# step 3.2 check for zeros in important features"
   ]
  },
  {
   "cell_type": "code",
   "execution_count": 4,
   "id": "ecbb05df-7879-46a1-8b78-d59371d41170",
   "metadata": {},
   "outputs": [
    {
     "name": "stdout",
     "output_type": "stream",
     "text": [
      "Glucose: 5 zeros\n",
      "BloodPressure: 35 zeros\n",
      "SkinThickness: 227 zeros\n",
      "Insulin: 374 zeros\n",
      "BMI: 11 zeros\n"
     ]
    },
    {
     "data": {
      "image/png": "[encoded data removed]",
      "text/plain": [
       "<Figure size 640x480 with 1 Axes>"
      ]
     },
     "metadata": {},
     "output_type": "display_data"
    },
    {
     "name": "stdout",
     "output_type": "stream",
     "text": [
      "Outcome\n",
      "0    65.104167\n",
      "1    34.895833\n",
      "Name: proportion, dtype: float64\n"
     ]
    }
   ],
   "source": [
    "# Columns where 0 doesn't make sense\n",
    "cols_with_zeros = [\"Glucose\", \"BloodPressure\", \"SkinThickness\", \"Insulin\", \"BMI\"]\n",
    "\n",
    "# Count zeros in each\n",
    "for col in cols_with_zeros:\n",
    "    zero_count = (df[col] == 0).sum()\n",
    "    print(f\"{col}: {zero_count} zeros\")\n",
    "\n",
    "# Step 3.3: Class Distribution (Imbalanced or not?)\n",
    "# Count of each class (0 = No diabetes, 1 = Diabetes)\n",
    "sns.countplot(x=\"Outcome\", data=df)\n",
    "plt.title(\"Class Distribution (0 = No Diabetes, 1 = Diabetes)\")\n",
    "plt.show()\n",
    "\n",
    "# Print percentage\n",
    "diabetes_rate = df['Outcome'].value_counts(normalize=True) * 100\n",
    "print(diabetes_rate)\n",
    "\n"
   ]
  },
  {
   "cell_type": "markdown",
   "id": "3048f2c1-2476-4533-be16-1c8ee87956ff",
   "metadata": {},
   "source": [
    "# Step 4: Data Preprocessing\n",
    "# Step 4.1.1: Replace Zeros with NaN\n",
    " Step 4.1: Handle Missing Values\n",
    "Remember, we noticed that zeros in some features are actually placeholders for missing values (e.g., glucose cannot be zero)"
   ]
  },
  {
   "cell_type": "code",
   "execution_count": 5,
   "id": "c0a303ec-1a75-4ffe-a8ef-089d78298398",
   "metadata": {},
   "outputs": [
    {
     "name": "stdout",
     "output_type": "stream",
     "text": [
      "\n",
      "Missing Values after replacement:\n",
      "Pregnancies                   0\n",
      "Glucose                       5\n",
      "BloodPressure                35\n",
      "SkinThickness               227\n",
      "Insulin                     374\n",
      "BMI                          11\n",
      "DiabetesPedigreeFunction      0\n",
      "Age                           0\n",
      "Outcome                       0\n",
      "dtype: int64\n"
     ]
    }
   ],
   "source": [
    "# Replace 0 with specific columns with naan\n",
    "df[cols_with_zeros] = df[cols_with_zeros].replace(0,np.nan)\n",
    "\n",
    "#check for Nan value again\n",
    "\n",
    "\n",
    "print(\"\\nMissing Values after replacement:\")\n",
    "print(df.isnull().sum())"
   ]
  },
  {
   "cell_type": "markdown",
   "id": "f2a54aa7-8aac-419b-8e6b-3a49e87ac0ba",
   "metadata": {},
   "source": [
    "# What is StandardScaler doing here?\n",
    "Standardizing: It’s transforming the data so that every feature has a mean of 0 and standard deviation of 1.\n",
    "\n",
    "For example, if BMI was in a range of 10-50 and Age was 18-80, BMI would dominate because it has a larger range. StandardScaler removes this bias by rescaling all features."
   ]
  },
  {
   "cell_type": "markdown",
   "id": "8d1db63b-2dee-499b-bcd9-ef57854606f5",
   "metadata": {},
   "source": [
    "## Step 4.3: Feature Scaling (Standardizing the Data)\n",
    "## just a project remainder for me.\n",
    "!! \"Scaling ensures all features have the same weight, especially for models using distances or gradients (e.g., KNN, Neural Networks). Features like BMI can have a wider range than Age, causing issues. We use StandardScaler from Scikit-learn to normalize features to a mean of 0 and standard deviation of 1\n",
    "\n",
    "\n",
    " to Remain why we using fir_transform(x)\n",
    " Let's say 'x' looks like this:\n",
    "   Age  BMI  Glucose\n",
    " 0  30   22    120\n",
    " 1  25   28    110\n",
    " 2  40   30    130\n",
    "\n",
    " After scaling, 'x_scaled' will be a NumPy array with no column names:\n",
    " [[-1.2247  -0.9444   0.0]\n",
    "  [ 0.0     1.1102  -1.2247]\n",
    "  [ 1.2247  1.7366   1.2247]]\n",
    "\n",
    " To turn this into a DataFrame again with the original column names, we use:\n",
    "x_scaled = pd.DataFrame(x_scaled, columns=x.columns)\n",
    "\n",
    " Now 'x_scaled' will look like this:\n",
    "       Age       BMI   Glucose\n",
    " 0 -1.2247 -0.9444   0.0\n",
    " 1  0.0     1.1102  -1.2247\n",
    " 2  1.2247  1.7366   1.2247\n",
    "\n",
    "# When you use fit_transform() on the scaler, it returns a NumPy array, not a DataFrame. The column names (such as \"Age\", \"BMI\", etc.) are lost during this transformation because NumPy arrays do not have column names by default.\n",
    "\n",
    "So, when you convert the scaled data back to a DataFrame, you need to specify the column names to make it more readable. This is why we pass columns=x.columns to the DataFrame constructor. "
   ]
  },
  {
   "cell_type": "code",
   "execution_count": 6,
   "id": "8d266505-ee69-4028-ad72-a2eeeba38236",
   "metadata": {},
   "outputs": [
    {
     "data": {
      "text/html": [
       "<div>\n",
       "<style scoped>\n",
       "    .dataframe tbody tr th:only-of-type {\n",
       "        vertical-align: middle;\n",
       "    }\n",
       "\n",
       "    .dataframe tbody tr th {\n",
       "        vertical-align: top;\n",
       "    }\n",
       "\n",
       "    .dataframe thead th {\n",
       "        text-align: right;\n",
       "    }\n",
       "</style>\n",
       "<table border=\"1\" class=\"dataframe\">\n",
       "  <thead>\n",
       "    <tr style=\"text-align: right;\">\n",
       "      <th></th>\n",
       "      <th>Pregnancies</th>\n",
       "      <th>Glucose</th>\n",
       "      <th>BloodPressure</th>\n",
       "      <th>SkinThickness</th>\n",
       "      <th>Insulin</th>\n",
       "      <th>BMI</th>\n",
       "      <th>DiabetesPedigreeFunction</th>\n",
       "      <th>Age</th>\n",
       "    </tr>\n",
       "  </thead>\n",
       "  <tbody>\n",
       "    <tr>\n",
       "      <th>0</th>\n",
       "      <td>0.639947</td>\n",
       "      <td>0.862287</td>\n",
       "      <td>-0.032746</td>\n",
       "      <td>0.558557</td>\n",
       "      <td>NaN</td>\n",
       "      <td>0.165097</td>\n",
       "      <td>0.468492</td>\n",
       "      <td>1.425995</td>\n",
       "    </tr>\n",
       "    <tr>\n",
       "      <th>1</th>\n",
       "      <td>-0.844885</td>\n",
       "      <td>-1.202229</td>\n",
       "      <td>-0.517645</td>\n",
       "      <td>-0.014657</td>\n",
       "      <td>NaN</td>\n",
       "      <td>-0.846404</td>\n",
       "      <td>-0.365061</td>\n",
       "      <td>-0.190672</td>\n",
       "    </tr>\n",
       "    <tr>\n",
       "      <th>2</th>\n",
       "      <td>1.233880</td>\n",
       "      <td>2.009241</td>\n",
       "      <td>-0.679278</td>\n",
       "      <td>NaN</td>\n",
       "      <td>NaN</td>\n",
       "      <td>-1.323254</td>\n",
       "      <td>0.604397</td>\n",
       "      <td>-0.105584</td>\n",
       "    </tr>\n",
       "    <tr>\n",
       "      <th>3</th>\n",
       "      <td>-0.844885</td>\n",
       "      <td>-1.071148</td>\n",
       "      <td>-0.517645</td>\n",
       "      <td>-0.587871</td>\n",
       "      <td>-0.518847</td>\n",
       "      <td>-0.629654</td>\n",
       "      <td>-0.920763</td>\n",
       "      <td>-1.041549</td>\n",
       "    </tr>\n",
       "    <tr>\n",
       "      <th>4</th>\n",
       "      <td>-1.141852</td>\n",
       "      <td>0.501816</td>\n",
       "      <td>-2.618874</td>\n",
       "      <td>0.558557</td>\n",
       "      <td>0.104968</td>\n",
       "      <td>1.537847</td>\n",
       "      <td>5.484909</td>\n",
       "      <td>-0.020496</td>\n",
       "    </tr>\n",
       "  </tbody>\n",
       "</table>\n",
       "</div>"
      ],
      "text/plain": [
       "   Pregnancies   Glucose  BloodPressure  SkinThickness   Insulin       BMI  \\\n",
       "0     0.639947  0.862287      -0.032746       0.558557       NaN  0.165097   \n",
       "1    -0.844885 -1.202229      -0.517645      -0.014657       NaN -0.846404   \n",
       "2     1.233880  2.009241      -0.679278            NaN       NaN -1.323254   \n",
       "3    -0.844885 -1.071148      -0.517645      -0.587871 -0.518847 -0.629654   \n",
       "4    -1.141852  0.501816      -2.618874       0.558557  0.104968  1.537847   \n",
       "\n",
       "   DiabetesPedigreeFunction       Age  \n",
       "0                  0.468492  1.425995  \n",
       "1                 -0.365061 -0.190672  \n",
       "2                  0.604397 -0.105584  \n",
       "3                 -0.920763 -1.041549  \n",
       "4                  5.484909 -0.020496  "
      ]
     },
     "execution_count": 6,
     "metadata": {},
     "output_type": "execute_result"
    }
   ],
   "source": [
    "#Initiliaze the Scaler\n",
    "scaler = StandardScaler()\n",
    "\n",
    "#Features to scale(exclude 'outcome' as its a target)\n",
    "x = df.drop('Outcome',axis = 1)\n",
    "\n",
    "#Scale features\n",
    "x_scaled = scaler.fit_transform(x)\n",
    "\n",
    "#convert the back to dataframe for easy viewing\n",
    "x_scaled = pd.DataFrame(x_scaled,columns = x.columns)\n",
    "\n",
    "# show the first few rows of scaled data\n",
    "x_scaled.head()"
   ]
  },
  {
   "cell_type": "markdown",
   "id": "c4cf09d1-a3c1-4500-ba4b-9849f7affd21",
   "metadata": {},
   "source": [
    "#  Step 4.4: Split Data into Training and Testing Sets"
   ]
  },
  {
   "cell_type": "code",
   "execution_count": 7,
   "id": "fa279051-6d32-47f6-9538-08089d541c98",
   "metadata": {},
   "outputs": [
    {
     "name": "stdout",
     "output_type": "stream",
     "text": [
      "Training the data : (614, 8),Testing data shape : (154, 8)\n"
     ]
    }
   ],
   "source": [
    "# split the data (80% train, 20% test)\n",
    "x_train,x_test,y_train,y_test = train_test_split(x_scaled,df['Outcome'],test_size = 0.2, random_state = 42)\n",
    "\n",
    "#check the shapes of splitss\n",
    "print(f\"Training the data : {x_train.shape},Testing data shape : {x_test.shape}\")"
   ]
  },
  {
   "cell_type": "markdown",
   "id": "03d916df-3829-44dd-8413-ecc7fa340033",
   "metadata": {},
   "source": [
    "# step 5 Step 5: Building the Neural Network Model\n",
    "Create a Neural Network using TensorFlow/Keras.\n",
    "\n",
    "Compile the Model with appropriate loss functions and optimizers.\n",
    "\n",
    "Train the Model on the training data.\n",
    "\n",
    "Evaluate the Model on the testing data to measure performanc"
   ]
  },
  {
   "cell_type": "code",
   "execution_count": 8,
   "id": "db543e6f-2b04-42bb-a7c2-bd42688fd1c6",
   "metadata": {},
   "outputs": [],
   "source": [
    "# Sequential: This is a simple neural network model where you stack layers sequentially.\n",
    "\n",
    "# Dense: A fully connected layer, which is the most common layer type in a neural network.\n",
    "\n",
    "import tensorflow as tf\n",
    "from tensorflow.keras.models import Sequential\n",
    "from tensorflow.keras.layers import Dense"
   ]
  },
  {
   "cell_type": "markdown",
   "id": "7a8460bb-c9f9-4ca2-97d5-96aadee98e4f",
   "metadata": {},
   "source": [
    "# Step 5.2: Define the Neural Network Architecture\n",
    "\n",
    "Explanation of Layers:\n",
    "Input Layer: The number of neurons in the input layer is equal to the number of features (X_train.shape[1]).\n",
    "\n",
    "Hidden Layer 1: 64 neurons with ReLU activation.\n",
    "\n",
    "Hidden Layer 2: 32 neurons with ReLU activation.\n",
    "\n",
    "Output Layer: 1 neuron with sigmoid activation. The sigmoid function will output values between 0 and 1, representing the probability of belonging to class 1 (diabetic, in this case).\n",
    "\n"
   ]
  },
  {
   "cell_type": "code",
   "execution_count": 9,
   "id": "8c292767-cebb-466c-a31a-4e303422eb0a",
   "metadata": {},
   "outputs": [],
   "source": [
    "# Define the mode\n",
    "model = Sequential()\n",
    "\n",
    "# Input Layer + Hidden Layer 1\n",
    "model.add(Dense(64, input_dim = x_train.shape[1], activation = 'relu'))\n",
    "\n",
    "#hidden layer 2\n",
    "model.add(Dense(32, activation= 'relu'))  # ReLU (Rectified Linear Unit)\n",
    "\n",
    "#output layer(binary classification)\n",
    "model.add(Dense(1, activation = 'sigmoid'))\n",
    "\n"
   ]
  },
  {
   "cell_type": "markdown",
   "id": "cff21376-34e5-45f0-b80c-6ae0768af816",
   "metadata": {},
   "source": [
    "# Step 5.3: Compile the Model\n",
    "The loss function: Since this is a binary classification, we’ll use binary cross-entropy.\n",
    "\n",
    "The optimizer: We’ll use Adam, which is a widely-used optimization algorithm.\n",
    "\n",
    "The metrics: We’ll use accuracy to evaluate the model."
   ]
  },
  {
   "cell_type": "code",
   "execution_count": 10,
   "id": "d45b0649-64db-4cd1-82b0-5c6baada50f7",
   "metadata": {},
   "outputs": [],
   "source": [
    "# COMPILE THE MODEL\n",
    "model.compile(optimizer = \"adam\", loss = \"binary_crossentropy\", metrics = [\"accuracy\"])"
   ]
  },
  {
   "cell_type": "markdown",
   "id": "ec95c26c-94ef-4bf3-8d86-4da73e1b4676",
   "metadata": {},
   "source": [
    "# Step 5.4: Train the Model\n",
    "epochs=50: The model will go through the entire training dataset 50 times.\n",
    "\n",
    "batch_size=32: The model will update weights after processing each batch of 32 samples.\n",
    "\n",
    "validation_data=(X_test, y_test): We provide the test data here so that the model can evaluate its performance on the test set after every epoch."
   ]
  },
  {
   "cell_type": "code",
   "execution_count": 11,
   "id": "0615ff07-97a2-4c06-9b3d-d46a61f6eac1",
   "metadata": {},
   "outputs": [
    {
     "name": "stdout",
     "output_type": "stream",
     "text": [
      "Epoch 1/50\n",
      "20/20 [==============================] - 1s 20ms/step - loss: 0.6866 - accuracy: 0.6531 - val_loss: 0.6829 - val_accuracy: 0.6429\n",
      "Epoch 2/50\n",
      "20/20 [==============================] - 0s 5ms/step - loss: 0.6776 - accuracy: 0.6531 - val_loss: 0.6728 - val_accuracy: 0.6429\n",
      "Epoch 3/50\n",
      "20/20 [==============================] - 0s 5ms/step - loss: 0.6675 - accuracy: 0.6531 - val_loss: 0.6663 - val_accuracy: 0.6429\n",
      "Epoch 4/50\n",
      "20/20 [==============================] - 0s 4ms/step - loss: 0.6602 - accuracy: 0.6531 - val_loss: 0.6598 - val_accuracy: 0.6429\n",
      "Epoch 5/50\n",
      "20/20 [==============================] - 0s 4ms/step - loss: 0.6538 - accuracy: 0.6531 - val_loss: 0.6557 - val_accuracy: 0.6429\n",
      "Epoch 6/50\n",
      "20/20 [==============================] - 0s 5ms/step - loss: 0.6501 - accuracy: 0.6531 - val_loss: 0.6532 - val_accuracy: 0.6429\n",
      "Epoch 7/50\n",
      "20/20 [==============================] - 0s 4ms/step - loss: 0.6477 - accuracy: 0.6531 - val_loss: 0.6522 - val_accuracy: 0.6429\n",
      "Epoch 8/50\n",
      "20/20 [==============================] - 0s 5ms/step - loss: 0.6463 - accuracy: 0.6531 - val_loss: 0.6518 - val_accuracy: 0.6429\n",
      "Epoch 9/50\n",
      "20/20 [==============================] - 0s 5ms/step - loss: 0.6458 - accuracy: 0.6531 - val_loss: 0.6518 - val_accuracy: 0.6429\n",
      "Epoch 10/50\n",
      "20/20 [==============================] - 0s 4ms/step - loss: 0.6457 - accuracy: 0.6531 - val_loss: 0.6518 - val_accuracy: 0.6429\n",
      "Epoch 11/50\n",
      "20/20 [==============================] - 0s 4ms/step - loss: 0.6455 - accuracy: 0.6531 - val_loss: 0.6519 - val_accuracy: 0.6429\n",
      "Epoch 12/50\n",
      "20/20 [==============================] - 0s 4ms/step - loss: 0.6456 - accuracy: 0.6531 - val_loss: 0.6519 - val_accuracy: 0.6429\n",
      "Epoch 13/50\n",
      "20/20 [==============================] - 0s 3ms/step - loss: 0.6458 - accuracy: 0.6531 - val_loss: 0.6521 - val_accuracy: 0.6429\n",
      "Epoch 14/50\n",
      "20/20 [==============================] - 0s 3ms/step - loss: 0.6460 - accuracy: 0.6531 - val_loss: 0.6523 - val_accuracy: 0.6429\n",
      "Epoch 15/50\n",
      "20/20 [==============================] - 0s 3ms/step - loss: 0.6456 - accuracy: 0.6531 - val_loss: 0.6521 - val_accuracy: 0.6429\n",
      "Epoch 16/50\n",
      "20/20 [==============================] - 0s 3ms/step - loss: 0.6456 - accuracy: 0.6531 - val_loss: 0.6520 - val_accuracy: 0.6429\n",
      "Epoch 17/50\n",
      "20/20 [==============================] - 0s 3ms/step - loss: 0.6456 - accuracy: 0.6531 - val_loss: 0.6520 - val_accuracy: 0.6429\n",
      "Epoch 18/50\n",
      "20/20 [==============================] - 0s 4ms/step - loss: 0.6457 - accuracy: 0.6531 - val_loss: 0.6521 - val_accuracy: 0.6429\n",
      "Epoch 19/50\n",
      "20/20 [==============================] - 0s 3ms/step - loss: 0.6456 - accuracy: 0.6531 - val_loss: 0.6520 - val_accuracy: 0.6429\n",
      "Epoch 20/50\n",
      "20/20 [==============================] - 0s 3ms/step - loss: 0.6455 - accuracy: 0.6531 - val_loss: 0.6521 - val_accuracy: 0.6429\n",
      "Epoch 21/50\n",
      "20/20 [==============================] - 0s 4ms/step - loss: 0.6455 - accuracy: 0.6531 - val_loss: 0.6522 - val_accuracy: 0.6429\n",
      "Epoch 22/50\n",
      "20/20 [==============================] - 0s 3ms/step - loss: 0.6458 - accuracy: 0.6531 - val_loss: 0.6523 - val_accuracy: 0.6429\n",
      "Epoch 23/50\n",
      "20/20 [==============================] - 0s 3ms/step - loss: 0.6460 - accuracy: 0.6531 - val_loss: 0.6520 - val_accuracy: 0.6429\n",
      "Epoch 24/50\n",
      "20/20 [==============================] - 0s 4ms/step - loss: 0.6456 - accuracy: 0.6531 - val_loss: 0.6520 - val_accuracy: 0.6429\n",
      "Epoch 25/50\n",
      "20/20 [==============================] - 0s 4ms/step - loss: 0.6457 - accuracy: 0.6531 - val_loss: 0.6520 - val_accuracy: 0.6429\n",
      "Epoch 26/50\n",
      "20/20 [==============================] - 0s 4ms/step - loss: 0.6457 - accuracy: 0.6531 - val_loss: 0.6520 - val_accuracy: 0.6429\n",
      "Epoch 27/50\n",
      "20/20 [==============================] - 0s 3ms/step - loss: 0.6458 - accuracy: 0.6531 - val_loss: 0.6521 - val_accuracy: 0.6429\n",
      "Epoch 28/50\n",
      "20/20 [==============================] - 0s 4ms/step - loss: 0.6456 - accuracy: 0.6531 - val_loss: 0.6519 - val_accuracy: 0.6429\n",
      "Epoch 29/50\n",
      "20/20 [==============================] - 0s 4ms/step - loss: 0.6456 - accuracy: 0.6531 - val_loss: 0.6518 - val_accuracy: 0.6429\n",
      "Epoch 30/50\n",
      "20/20 [==============================] - 0s 3ms/step - loss: 0.6458 - accuracy: 0.6531 - val_loss: 0.6521 - val_accuracy: 0.6429\n",
      "Epoch 31/50\n",
      "20/20 [==============================] - 0s 4ms/step - loss: 0.6458 - accuracy: 0.6531 - val_loss: 0.6520 - val_accuracy: 0.6429\n",
      "Epoch 32/50\n",
      "20/20 [==============================] - 0s 4ms/step - loss: 0.6458 - accuracy: 0.6531 - val_loss: 0.6524 - val_accuracy: 0.6429\n",
      "Epoch 33/50\n",
      "20/20 [==============================] - 0s 4ms/step - loss: 0.6455 - accuracy: 0.6531 - val_loss: 0.6520 - val_accuracy: 0.6429\n",
      "Epoch 34/50\n",
      "20/20 [==============================] - 0s 4ms/step - loss: 0.6455 - accuracy: 0.6531 - val_loss: 0.6519 - val_accuracy: 0.6429\n",
      "Epoch 35/50\n",
      "20/20 [==============================] - 0s 4ms/step - loss: 0.6456 - accuracy: 0.6531 - val_loss: 0.6520 - val_accuracy: 0.6429\n",
      "Epoch 36/50\n",
      "20/20 [==============================] - 0s 4ms/step - loss: 0.6456 - accuracy: 0.6531 - val_loss: 0.6520 - val_accuracy: 0.6429\n",
      "Epoch 37/50\n",
      "20/20 [==============================] - 0s 4ms/step - loss: 0.6456 - accuracy: 0.6531 - val_loss: 0.6520 - val_accuracy: 0.6429\n",
      "Epoch 38/50\n",
      "20/20 [==============================] - 0s 3ms/step - loss: 0.6457 - accuracy: 0.6531 - val_loss: 0.6519 - val_accuracy: 0.6429\n",
      "Epoch 39/50\n",
      "20/20 [==============================] - 0s 5ms/step - loss: 0.6457 - accuracy: 0.6531 - val_loss: 0.6520 - val_accuracy: 0.6429\n",
      "Epoch 40/50\n",
      "20/20 [==============================] - 0s 4ms/step - loss: 0.6456 - accuracy: 0.6531 - val_loss: 0.6519 - val_accuracy: 0.6429\n",
      "Epoch 41/50\n",
      "20/20 [==============================] - 0s 4ms/step - loss: 0.6457 - accuracy: 0.6531 - val_loss: 0.6519 - val_accuracy: 0.6429\n",
      "Epoch 42/50\n",
      "20/20 [==============================] - 0s 4ms/step - loss: 0.6460 - accuracy: 0.6531 - val_loss: 0.6518 - val_accuracy: 0.6429\n",
      "Epoch 43/50\n",
      "20/20 [==============================] - 0s 4ms/step - loss: 0.6456 - accuracy: 0.6531 - val_loss: 0.6518 - val_accuracy: 0.6429\n",
      "Epoch 44/50\n",
      "20/20 [==============================] - 0s 4ms/step - loss: 0.6454 - accuracy: 0.6531 - val_loss: 0.6521 - val_accuracy: 0.6429\n",
      "Epoch 45/50\n",
      "20/20 [==============================] - 0s 5ms/step - loss: 0.6460 - accuracy: 0.6531 - val_loss: 0.6525 - val_accuracy: 0.6429\n",
      "Epoch 46/50\n",
      "20/20 [==============================] - 0s 5ms/step - loss: 0.6458 - accuracy: 0.6531 - val_loss: 0.6522 - val_accuracy: 0.6429\n",
      "Epoch 47/50\n",
      "20/20 [==============================] - 0s 5ms/step - loss: 0.6456 - accuracy: 0.6531 - val_loss: 0.6522 - val_accuracy: 0.6429\n",
      "Epoch 48/50\n",
      "20/20 [==============================] - 0s 4ms/step - loss: 0.6457 - accuracy: 0.6531 - val_loss: 0.6520 - val_accuracy: 0.6429\n",
      "Epoch 49/50\n",
      "20/20 [==============================] - 0s 4ms/step - loss: 0.6456 - accuracy: 0.6531 - val_loss: 0.6519 - val_accuracy: 0.6429\n",
      "Epoch 50/50\n",
      "20/20 [==============================] - 0s 4ms/step - loss: 0.6460 - accuracy: 0.6531 - val_loss: 0.6520 - val_accuracy: 0.6429\n"
     ]
    }
   ],
   "source": [
    "# Train the model\n",
    "history = model.fit(x_train, y_train, epochs=50, batch_size=32, validation_data=(x_test, y_test))\n"
   ]
  },
  {
   "cell_type": "markdown",
   "id": "b569a874-521d-4550-aaf9-2be078581c17",
   "metadata": {},
   "source": [
    "# Step 5.5: Evaluate the Model\n",
    "model.evaluate(): Evaluates the model's performance on the test data.\n",
    "\n",
    "loss: This shows how well the model fits the data.\n",
    "\n",
    "accuracy: This shows the model's prediction accuracy on the test data"
   ]
  },
  {
   "cell_type": "code",
   "execution_count": 12,
   "id": "5b48cd5e-77d0-44e3-8751-53aaed570c4d",
   "metadata": {},
   "outputs": [
    {
     "name": "stdout",
     "output_type": "stream",
     "text": [
      "5/5 [==============================] - 0s 2ms/step - loss: 0.6520 - accuracy: 0.6429\n",
      "Test Loss : 0.6520158052444458\n",
      "Test Accuracy: 0.6428571343421936\n"
     ]
    }
   ],
   "source": [
    "loss ,accuracy =model.evaluate(x_test,y_test)\n",
    "print(f\"Test Loss : {loss}\")\n",
    "print(f\"Test Accuracy: {accuracy}\")"
   ]
  },
  {
   "cell_type": "markdown",
   "id": "34c84afc-b3fa-44de-bfc5-d1044db1e6ec",
   "metadata": {},
   "source": [
    "# Step 5.6: Check for Class Imbalance\n",
    "for learning why we r using this \n",
    "1. Why use class_weight?\n",
    "When your dataset has more samples in one class than the other (like 90% 0s, 10% 1s), the model becomes biased and just predicts the majority class.\n",
    "class_weight tells the model:\n",
    "\n",
    "“Yo, don’t ignore the rare class. It’s important too.”\n",
    "balanced: makes the class weights inversely proportional to class frequencies.\n",
    "\n",
    "classes=np.unique(y_train): gives it the actual class labels (like [0, 1]).\n",
    "\n",
    "y=y_train: gives it the training labels so it can count the class distribution.\n",
    "\n",
    "👉 This returns something like:\n",
    "\n",
    "python\n",
    "Copy\n",
    "Edit\n",
    "array([0.65, 2.15])\n"
   ]
  },
  {
   "cell_type": "code",
   "execution_count": 13,
   "id": "326b09f1-e929-4e05-829c-9dd993c1e514",
   "metadata": {},
   "outputs": [
    {
     "ename": "ValueError",
     "evalue": "The truth value of an array with more than one element is ambiguous. Use a.any() or a.all()",
     "output_type": "error",
     "traceback": [
      "\u001b[1;31m---------------------------------------------------------------------------\u001b[0m",
      "\u001b[1;31mValueError\u001b[0m                                Traceback (most recent call last)",
      "Cell \u001b[1;32mIn[13], line 7\u001b[0m\n\u001b[0;32m      4\u001b[0m class_weights \u001b[38;5;241m=\u001b[39m class_weight\u001b[38;5;241m.\u001b[39mcompute_class_weight(\u001b[38;5;124m'\u001b[39m\u001b[38;5;124mbalanced\u001b[39m\u001b[38;5;124m'\u001b[39m, classes \u001b[38;5;241m=\u001b[39m np\u001b[38;5;241m.\u001b[39munique(y_train), y\u001b[38;5;241m=\u001b[39my_train)\n\u001b[0;32m      6\u001b[0m \u001b[38;5;66;03m#train the data with class weight\u001b[39;00m\n\u001b[1;32m----> 7\u001b[0m history \u001b[38;5;241m=\u001b[39m \u001b[43mmodel\u001b[49m\u001b[38;5;241;43m.\u001b[39;49m\u001b[43mfit\u001b[49m\u001b[43m(\u001b[49m\u001b[43mx_train\u001b[49m\u001b[43m,\u001b[49m\u001b[43my_train\u001b[49m\u001b[43m,\u001b[49m\u001b[43m \u001b[49m\u001b[43mepochs\u001b[49m\u001b[43m \u001b[49m\u001b[38;5;241;43m=\u001b[39;49m\u001b[43m \u001b[49m\u001b[38;5;241;43m50\u001b[39;49m\u001b[43m,\u001b[49m\u001b[43m \u001b[49m\u001b[43mbatch_size\u001b[49m\u001b[43m \u001b[49m\u001b[38;5;241;43m=\u001b[39;49m\u001b[43m \u001b[49m\u001b[38;5;241;43m32\u001b[39;49m\u001b[43m,\u001b[49m\u001b[43mvalidation_data\u001b[49m\u001b[38;5;241;43m=\u001b[39;49m\u001b[43m(\u001b[49m\u001b[43mx_test\u001b[49m\u001b[43m,\u001b[49m\u001b[43my_test\u001b[49m\u001b[43m)\u001b[49m\u001b[43m,\u001b[49m\u001b[43mclass_weight\u001b[49m\u001b[43m \u001b[49m\u001b[38;5;241;43m=\u001b[39;49m\u001b[43m \u001b[49m\u001b[43mclass_weights\u001b[49m\u001b[43m)\u001b[49m\n",
      "File \u001b[1;32m~\\miniconda3\\envs\\myenv\\lib\\site-packages\\keras\\utils\\traceback_utils.py:70\u001b[0m, in \u001b[0;36mfilter_traceback.<locals>.error_handler\u001b[1;34m(*args, **kwargs)\u001b[0m\n\u001b[0;32m     67\u001b[0m     filtered_tb \u001b[38;5;241m=\u001b[39m _process_traceback_frames(e\u001b[38;5;241m.\u001b[39m__traceback__)\n\u001b[0;32m     68\u001b[0m     \u001b[38;5;66;03m# To get the full stack trace, call:\u001b[39;00m\n\u001b[0;32m     69\u001b[0m     \u001b[38;5;66;03m# `tf.debugging.disable_traceback_filtering()`\u001b[39;00m\n\u001b[1;32m---> 70\u001b[0m     \u001b[38;5;28;01mraise\u001b[39;00m e\u001b[38;5;241m.\u001b[39mwith_traceback(filtered_tb) \u001b[38;5;28;01mfrom\u001b[39;00m \u001b[38;5;28;01mNone\u001b[39;00m\n\u001b[0;32m     71\u001b[0m \u001b[38;5;28;01mfinally\u001b[39;00m:\n\u001b[0;32m     72\u001b[0m     \u001b[38;5;28;01mdel\u001b[39;00m filtered_tb\n",
      "File \u001b[1;32m~\\miniconda3\\envs\\myenv\\lib\\site-packages\\keras\\engine\\data_adapter.py:1293\u001b[0m, in \u001b[0;36mDataHandler._configure_dataset_and_inferred_steps\u001b[1;34m(***failed resolving arguments***)\u001b[0m\n\u001b[0;32m   1291\u001b[0m \u001b[38;5;28;01mdel\u001b[39;00m x\n\u001b[0;32m   1292\u001b[0m dataset \u001b[38;5;241m=\u001b[39m \u001b[38;5;28mself\u001b[39m\u001b[38;5;241m.\u001b[39m_adapter\u001b[38;5;241m.\u001b[39mget_dataset()\n\u001b[1;32m-> 1293\u001b[0m \u001b[38;5;28;01mif\u001b[39;00m class_weight:\n\u001b[0;32m   1294\u001b[0m     dataset \u001b[38;5;241m=\u001b[39m dataset\u001b[38;5;241m.\u001b[39mmap(_make_class_weight_map_fn(class_weight))\n\u001b[0;32m   1295\u001b[0m \u001b[38;5;28mself\u001b[39m\u001b[38;5;241m.\u001b[39m_inferred_steps \u001b[38;5;241m=\u001b[39m \u001b[38;5;28mself\u001b[39m\u001b[38;5;241m.\u001b[39m_infer_steps(steps_per_epoch, dataset)\n",
      "\u001b[1;31mValueError\u001b[0m: The truth value of an array with more than one element is ambiguous. Use a.any() or a.all()"
     ]
    }
   ],
   "source": [
    "from sklearn.utils import class_weight\n",
    "\n",
    "#compute class weights\n",
    "class_weights = class_weight.compute_class_weight('balanced', classes = np.unique(y_train), y=y_train)\n",
    "\n",
    "#train the data with class weight\n",
    "history = model.fit(x_train,y_train, epochs = 50, batch_size = 32,validation_data=(x_test,y_test),class_weight = class_weights)"
   ]
  },
  {
   "cell_type": "markdown",
   "id": "7835a599-f8ac-420c-8a17-8902b5e3306e",
   "metadata": {},
   "source": [
    "# i m getting error becoz of this ValueError: The truth value of an array with more than one element is ambiguous. Use a.any() or a.all()\n",
    "This is a common NumPy error, and here’s what it means in English:\n",
    "\n",
    "“You're trying to use a NumPy array like a boolean condition (like if class_weights:), but NumPy doesn't know if you mean any element is True or all elements are True.”\n",
    "Convert the array to a dictionary:\n",
    "\n",
    "python\n",
    "Copy\n",
    "Edit\n",
    "class_weights_dict = dict(enumerate(class_weights))\n",
    "How I Diagnosed It (My Thought Process):\n",
    "I read the error: \"The truth value of an array with more than one element is ambiguous\" → Aha! Classic NumPy issue.\n",
    "\n",
    "Then I traced the call: model.fit(... class_weight=class_weights) → suspicious param.\n",
    "\n",
    "I checked what class_weight.compute_class_weight returns → NumPy array.\n",
    "\n",
    "Then I remembered: Keras wants class_weight as a dict, not a NumPy array.\n",
    "\n",
    "So I used dict(enumerate(...)) to convert array → dict ✅"
   ]
  },
  {
   "cell_type": "code",
   "execution_count": 14,
   "id": "a0ed228e-37c4-455c-a7cf-7cd4662a03f3",
   "metadata": {},
   "outputs": [
    {
     "name": "stdout",
     "output_type": "stream",
     "text": [
      "Epoch 1/50\n",
      "20/20 [==============================] - 0s 7ms/step - loss: 0.7354 - accuracy: 0.6531 - val_loss: 0.6527 - val_accuracy: 0.6429\n",
      "Epoch 2/50\n",
      "20/20 [==============================] - 0s 4ms/step - loss: 0.7166 - accuracy: 0.6531 - val_loss: 0.6586 - val_accuracy: 0.6429\n",
      "Epoch 3/50\n",
      "20/20 [==============================] - 0s 4ms/step - loss: 0.7047 - accuracy: 0.6531 - val_loss: 0.6653 - val_accuracy: 0.6429\n",
      "Epoch 4/50\n",
      "20/20 [==============================] - 0s 4ms/step - loss: 0.6989 - accuracy: 0.6531 - val_loss: 0.6714 - val_accuracy: 0.6429\n",
      "Epoch 5/50\n",
      "20/20 [==============================] - 0s 4ms/step - loss: 0.6964 - accuracy: 0.6531 - val_loss: 0.6773 - val_accuracy: 0.6429\n",
      "Epoch 6/50\n",
      "20/20 [==============================] - 0s 4ms/step - loss: 0.6947 - accuracy: 0.6531 - val_loss: 0.6802 - val_accuracy: 0.6429\n",
      "Epoch 7/50\n",
      "20/20 [==============================] - 0s 5ms/step - loss: 0.6942 - accuracy: 0.6531 - val_loss: 0.6825 - val_accuracy: 0.6429\n",
      "Epoch 8/50\n",
      "20/20 [==============================] - 0s 4ms/step - loss: 0.6939 - accuracy: 0.6531 - val_loss: 0.6850 - val_accuracy: 0.6429\n",
      "Epoch 9/50\n",
      "20/20 [==============================] - 0s 4ms/step - loss: 0.6939 - accuracy: 0.6531 - val_loss: 0.6890 - val_accuracy: 0.6429\n",
      "Epoch 10/50\n",
      "20/20 [==============================] - 0s 8ms/step - loss: 0.6935 - accuracy: 0.6531 - val_loss: 0.6887 - val_accuracy: 0.6429\n",
      "Epoch 11/50\n",
      "20/20 [==============================] - 0s 5ms/step - loss: 0.6933 - accuracy: 0.6531 - val_loss: 0.6890 - val_accuracy: 0.6429\n",
      "Epoch 12/50\n",
      "20/20 [==============================] - 0s 5ms/step - loss: 0.6934 - accuracy: 0.6531 - val_loss: 0.6901 - val_accuracy: 0.6429\n",
      "Epoch 13/50\n",
      "20/20 [==============================] - 0s 4ms/step - loss: 0.6933 - accuracy: 0.6531 - val_loss: 0.6895 - val_accuracy: 0.6429\n",
      "Epoch 14/50\n",
      "20/20 [==============================] - 0s 4ms/step - loss: 0.6933 - accuracy: 0.6531 - val_loss: 0.6904 - val_accuracy: 0.6429\n",
      "Epoch 15/50\n",
      "20/20 [==============================] - 0s 4ms/step - loss: 0.6932 - accuracy: 0.6531 - val_loss: 0.6911 - val_accuracy: 0.6429\n",
      "Epoch 16/50\n",
      "20/20 [==============================] - 0s 4ms/step - loss: 0.6932 - accuracy: 0.6531 - val_loss: 0.6914 - val_accuracy: 0.6429\n",
      "Epoch 17/50\n",
      "20/20 [==============================] - 0s 4ms/step - loss: 0.6932 - accuracy: 0.6531 - val_loss: 0.6916 - val_accuracy: 0.6429\n",
      "Epoch 18/50\n",
      "20/20 [==============================] - 0s 5ms/step - loss: 0.6932 - accuracy: 0.6531 - val_loss: 0.6923 - val_accuracy: 0.6429\n",
      "Epoch 19/50\n",
      "20/20 [==============================] - 0s 4ms/step - loss: 0.6932 - accuracy: 0.6531 - val_loss: 0.6921 - val_accuracy: 0.6429\n",
      "Epoch 20/50\n",
      "20/20 [==============================] - 0s 5ms/step - loss: 0.6932 - accuracy: 0.6531 - val_loss: 0.6922 - val_accuracy: 0.6429\n",
      "Epoch 21/50\n",
      "20/20 [==============================] - 0s 4ms/step - loss: 0.6932 - accuracy: 0.6531 - val_loss: 0.6930 - val_accuracy: 0.6429\n",
      "Epoch 22/50\n",
      "20/20 [==============================] - 0s 4ms/step - loss: 0.6932 - accuracy: 0.3762 - val_loss: 0.6940 - val_accuracy: 0.3571\n",
      "Epoch 23/50\n",
      "20/20 [==============================] - 0s 4ms/step - loss: 0.6932 - accuracy: 0.3469 - val_loss: 0.6936 - val_accuracy: 0.3571\n",
      "Epoch 24/50\n",
      "20/20 [==============================] - 0s 4ms/step - loss: 0.6932 - accuracy: 0.3469 - val_loss: 0.6938 - val_accuracy: 0.3571\n",
      "Epoch 25/50\n",
      "20/20 [==============================] - 0s 4ms/step - loss: 0.6932 - accuracy: 0.3469 - val_loss: 0.6936 - val_accuracy: 0.3571\n",
      "Epoch 26/50\n",
      "20/20 [==============================] - 0s 4ms/step - loss: 0.6932 - accuracy: 0.5554 - val_loss: 0.6927 - val_accuracy: 0.6429\n",
      "Epoch 27/50\n",
      "20/20 [==============================] - 0s 4ms/step - loss: 0.6932 - accuracy: 0.6531 - val_loss: 0.6924 - val_accuracy: 0.6429\n",
      "Epoch 28/50\n",
      "20/20 [==============================] - 0s 4ms/step - loss: 0.6932 - accuracy: 0.6531 - val_loss: 0.6925 - val_accuracy: 0.6429\n",
      "Epoch 29/50\n",
      "20/20 [==============================] - 0s 4ms/step - loss: 0.6932 - accuracy: 0.6531 - val_loss: 0.6926 - val_accuracy: 0.6429\n",
      "Epoch 30/50\n",
      "20/20 [==============================] - 0s 4ms/step - loss: 0.6932 - accuracy: 0.5684 - val_loss: 0.6932 - val_accuracy: 0.3571\n",
      "Epoch 31/50\n",
      "20/20 [==============================] - 0s 5ms/step - loss: 0.6932 - accuracy: 0.4772 - val_loss: 0.6931 - val_accuracy: 0.6429\n",
      "Epoch 32/50\n",
      "20/20 [==============================] - 0s 4ms/step - loss: 0.6932 - accuracy: 0.4349 - val_loss: 0.6931 - val_accuracy: 0.6429\n",
      "Epoch 33/50\n",
      "20/20 [==============================] - 0s 4ms/step - loss: 0.6933 - accuracy: 0.6531 - val_loss: 0.6925 - val_accuracy: 0.6429\n",
      "Epoch 34/50\n",
      "20/20 [==============================] - 0s 4ms/step - loss: 0.6932 - accuracy: 0.6531 - val_loss: 0.6926 - val_accuracy: 0.6429\n",
      "Epoch 35/50\n",
      "20/20 [==============================] - 0s 5ms/step - loss: 0.6932 - accuracy: 0.6531 - val_loss: 0.6923 - val_accuracy: 0.6429\n",
      "Epoch 36/50\n",
      "20/20 [==============================] - 0s 4ms/step - loss: 0.6932 - accuracy: 0.6531 - val_loss: 0.6918 - val_accuracy: 0.6429\n",
      "Epoch 37/50\n",
      "20/20 [==============================] - 0s 4ms/step - loss: 0.6932 - accuracy: 0.6531 - val_loss: 0.6925 - val_accuracy: 0.6429\n",
      "Epoch 38/50\n",
      "20/20 [==============================] - 0s 4ms/step - loss: 0.6932 - accuracy: 0.4316 - val_loss: 0.6936 - val_accuracy: 0.3571\n",
      "Epoch 39/50\n",
      "20/20 [==============================] - 0s 4ms/step - loss: 0.6932 - accuracy: 0.5586 - val_loss: 0.6927 - val_accuracy: 0.6429\n",
      "Epoch 40/50\n",
      "20/20 [==============================] - 0s 4ms/step - loss: 0.6932 - accuracy: 0.4088 - val_loss: 0.6935 - val_accuracy: 0.3571\n",
      "Epoch 41/50\n",
      "20/20 [==============================] - 0s 4ms/step - loss: 0.6932 - accuracy: 0.3469 - val_loss: 0.6936 - val_accuracy: 0.3571\n",
      "Epoch 42/50\n",
      "20/20 [==============================] - 0s 4ms/step - loss: 0.6932 - accuracy: 0.3469 - val_loss: 0.6932 - val_accuracy: 0.3571\n",
      "Epoch 43/50\n",
      "20/20 [==============================] - 0s 4ms/step - loss: 0.6932 - accuracy: 0.6303 - val_loss: 0.6928 - val_accuracy: 0.6429\n",
      "Epoch 44/50\n",
      "20/20 [==============================] - 0s 4ms/step - loss: 0.6932 - accuracy: 0.5065 - val_loss: 0.6933 - val_accuracy: 0.3571\n",
      "Epoch 45/50\n",
      "20/20 [==============================] - 0s 4ms/step - loss: 0.6932 - accuracy: 0.6205 - val_loss: 0.6926 - val_accuracy: 0.6429\n",
      "Epoch 46/50\n",
      "20/20 [==============================] - 0s 4ms/step - loss: 0.6932 - accuracy: 0.6531 - val_loss: 0.6917 - val_accuracy: 0.6429\n",
      "Epoch 47/50\n",
      "20/20 [==============================] - 0s 4ms/step - loss: 0.6932 - accuracy: 0.6531 - val_loss: 0.6912 - val_accuracy: 0.6429\n",
      "Epoch 48/50\n",
      "20/20 [==============================] - 0s 4ms/step - loss: 0.6932 - accuracy: 0.6531 - val_loss: 0.6910 - val_accuracy: 0.6429\n",
      "Epoch 49/50\n",
      "20/20 [==============================] - 0s 4ms/step - loss: 0.6932 - accuracy: 0.6531 - val_loss: 0.6910 - val_accuracy: 0.6429\n",
      "Epoch 50/50\n",
      "20/20 [==============================] - 0s 5ms/step - loss: 0.6933 - accuracy: 0.6531 - val_loss: 0.6919 - val_accuracy: 0.6429\n"
     ]
    }
   ],
   "source": [
    "from sklearn.utils import class_weight\n",
    "\n",
    "# Compute class weights\n",
    "class_weights = class_weight.compute_class_weight('balanced', classes=np.unique(y_train), y=y_train)\n",
    "\n",
    "# Convert the class weights array to a dictionary\n",
    "class_weights_dict = dict(enumerate(class_weights))\n",
    "\n",
    "# Train the model with class weights\n",
    "history = model.fit(x_train, y_train, epochs=50, batch_size=32, validation_data=(x_test, y_test), class_weight=class_weights_dict)\n"
   ]
  },
  {
   "cell_type": "markdown",
   "id": "563ca194-614d-4845-82ae-f69133331985",
   "metadata": {},
   "source": [
    "# Key Takeaways:\n",
    "Class imbalance can affect model performance, especially with imbalanced datasets.\n",
    "\n",
    "Class weights are used to give more importance to underrepresented classes during model training.\n",
    "\n",
    "Keras expects class weights in a dictionary format, with class labels as keys and weights as values."
   ]
  },
  {
   "cell_type": "code",
   "execution_count": 15,
   "id": "a0eecbb3-24b2-485b-aaf9-b6ba38999354",
   "metadata": {},
   "outputs": [],
   "source": [
    "# save the model \n",
    "model.save('diabetes_model.h5')\n"
   ]
  },
  {
   "cell_type": "markdown",
   "id": "a39872e1-0e78-4eb3-a9d9-7788d79f2c05",
   "metadata": {},
   "source": [
    "# Step 6: Model Evaluation and Fine-Tuning"
   ]
  },
  {
   "cell_type": "code",
   "execution_count": 16,
   "id": "9a5e049e-20aa-46b6-bd90-3907bb5254d6",
   "metadata": {},
   "outputs": [
    {
     "name": "stdout",
     "output_type": "stream",
     "text": [
      "5/5 [==============================] - 0s 2ms/step\n"
     ]
    }
   ],
   "source": [
    "# Step 6.1: Evaluating the Model on Test Data\n",
    "#Making Predictions: Use model.predict() to predict the outcomes on the test data (X_test)\n",
    "\n",
    "## Make predictions on the test set\n",
    "y_preds = model.predict(x_test)\n",
    "\n",
    "#Convert probabilities to binary labels (0 or 1)\n",
    "y_pred_class = (y_preds > 0.5).astype(int)\n"
   ]
  },
  {
   "cell_type": "code",
   "execution_count": 17,
   "id": "2d6ad833-1e3d-4ba5-9742-9076dc9dea5b",
   "metadata": {},
   "outputs": [
    {
     "name": "stdout",
     "output_type": "stream",
     "text": [
      "Test Accuracy: 0.6428571428571429\n"
     ]
    }
   ],
   "source": [
    "from sklearn.metrics import accuracy_score\n",
    "\n",
    "#caculate accuracy\n",
    "accuracy = accuracy_score(y_test,y_pred_class)\n",
    "print(f\"Test Accuracy: {accuracy}\")"
   ]
  },
  {
   "cell_type": "markdown",
   "id": "8500896a-4013-43e8-8dc8-c755d8526bbb",
   "metadata": {},
   "source": [
    "# Step 6.2: Additional Evaluation Metrics\n",
    "\n",
    "Confusion Matrix: This shows how many predictions were correct and where the model made errors.\n",
    "\n",
    "Confusion Matrix Explanation:\n",
    "\n",
    "True Positives (TP): Correctly predicted positive cases.\n",
    "\n",
    "True Negatives (TN): Correctly predicted negative cases.\n",
    "\n",
    "False Positives (FP): Incorrectly predicted positives.\n",
    "\n",
    "False Negatives (FN): Incorrectly predicted negatives."
   ]
  },
  {
   "cell_type": "code",
   "execution_count": 19,
   "id": "128442a9-bd48-4aea-8997-90dd9ced4979",
   "metadata": {},
   "outputs": [
    {
     "name": "stdout",
     "output_type": "stream",
     "text": [
      "Confusion Matrix [[99  0]\n",
      " [55  0]]\n"
     ]
    }
   ],
   "source": [
    "from sklearn.metrics import confusion_matrix\n",
    "\n",
    "#Confusion matrix\n",
    "\n",
    "cm = confusion_matrix(y_test, y_pred_class)\n",
    "\n",
    "print(f\"Confusion Matrix {cm}\")"
   ]
  },
  {
   "cell_type": "code",
   "execution_count": 20,
   "id": "02a59533-4864-439e-a8e6-f097801a72b5",
   "metadata": {},
   "outputs": [
    {
     "name": "stdout",
     "output_type": "stream",
     "text": [
      "Classification Report :              precision    recall  f1-score   support\n",
      "\n",
      "           0       0.64      1.00      0.78        99\n",
      "           1       0.00      0.00      0.00        55\n",
      "\n",
      "    accuracy                           0.64       154\n",
      "   macro avg       0.32      0.50      0.39       154\n",
      "weighted avg       0.41      0.64      0.50       154\n",
      "\n"
     ]
    }
   ],
   "source": [
    "# Precision, Recall, and F1-Score: These are critical when you have class imbalance.\n",
    "from sklearn.metrics import classification_report\n",
    "\n",
    "report = classification_report(y_test,y_pred_class,zero_division=0)\n",
    "print(f\"Classification Report :{report}\")\n",
    "\n",
    "#zero_division=0 will set precision to 0 when undefined.\n",
    "\n",
    "#zero_division=1 will set precision to 1 when undefined.\n",
    "\n",
    "#zero_division='warn' will show a warning, which is what you're seeing."
   ]
  },
  {
   "cell_type": "markdown",
   "id": "2af82a43-46f0-4ed0-a346-b9cc4423db27",
   "metadata": {},
   "source": [
    "# Precision: Out of all predicted positive instances, how many were actually positive?\n",
    "\n",
    "# Recall: Out of all actual positive instances, how many were correctly predicted?\n",
    "\n",
    "# F1-score: The harmonic mean of precision and recall. It’s a good metric when you need a balance between precision and recall."
   ]
  },
  {
   "cell_type": "markdown",
   "id": "9a8e562c-0f3d-4fdc-b6b5-1f19e5e0b1aa",
   "metadata": {},
   "source": [
    "# Step 6.3 : Model Fine-Tuning\n",
    "\n",
    "What is Early Stopping?\n",
    "Early stopping is a technique used to prevent overfitting while training a machine learning model. Overfitting occurs when your model learns the training data too well, including noise and fluctuations, which reduces its ability to generalize to new data (like the test set). Early stopping monitors the performance of the model on a validation set, and if it stops improving for a certain number of epochs, training is stopped early.\n",
    "\n",
    "How Early Stopping Works\n",
    "Monitor Performance: The main thing early stopping monitors is a specific metric, typically the validation loss (val_loss) or validation accuracy (val_accuracy).\n",
    "\n",
    "Patience: You define how many epochs (iterations) to wait after the last improvement. If the performance doesn't improve in the specified number of epochs (patience), the training stops.\n",
    "\n",
    "Stops Training: When the model’s performance on the validation set starts getting worse or doesn't improve for a certain number of epochs (patience), it indicates that the model has learned the training data well enough and won't benefit from further training."
   ]
  },
  {
   "cell_type": "code",
   "execution_count": null,
   "id": "24e4b616-4c74-48ce-811b-7e9a68d5754b",
   "metadata": {},
   "outputs": [],
   "source": [
    "#Example Scenario\n",
    "#Let’s say:\n",
    "\n",
    "# Your model starts training with a high validation loss (which is expected).\n",
    "\n",
    "#After several epochs, the validation loss starts decreasing (the model is improving).\n",
    "\n",
    "#But after some more epochs, the validation loss stops improving and starts fluctuating.\n",
    "\n",
    "#In this case, after 5 epochs of no improvement in validation loss, early stopping will stop training, preventing the model from overfitting and wasting resources.\n",
    "#\n",
    "#\n",
    "#"
   ]
  },
  {
   "cell_type": "code",
   "execution_count": 21,
   "id": "3c7318e4-35b7-40c6-9862-a4ee53a39c3b",
   "metadata": {},
   "outputs": [
    {
     "name": "stdout",
     "output_type": "stream",
     "text": [
      "Epoch 1/50\n",
      "20/20 [==============================] - 0s 8ms/step - loss: 0.6894 - accuracy: 0.6531 - val_loss: 0.6857 - val_accuracy: 0.6429\n",
      "Epoch 2/50\n",
      "20/20 [==============================] - 0s 4ms/step - loss: 0.6819 - accuracy: 0.6531 - val_loss: 0.6784 - val_accuracy: 0.6429\n",
      "Epoch 3/50\n",
      "20/20 [==============================] - 0s 4ms/step - loss: 0.6739 - accuracy: 0.6531 - val_loss: 0.6720 - val_accuracy: 0.6429\n",
      "Epoch 4/50\n",
      "20/20 [==============================] - 0s 4ms/step - loss: 0.6666 - accuracy: 0.6531 - val_loss: 0.6649 - val_accuracy: 0.6429\n",
      "Epoch 5/50\n",
      "20/20 [==============================] - 0s 4ms/step - loss: 0.6595 - accuracy: 0.6531 - val_loss: 0.6595 - val_accuracy: 0.6429\n",
      "Epoch 6/50\n",
      "20/20 [==============================] - 0s 5ms/step - loss: 0.6547 - accuracy: 0.6531 - val_loss: 0.6558 - val_accuracy: 0.6429\n",
      "Epoch 7/50\n",
      "20/20 [==============================] - 0s 5ms/step - loss: 0.6503 - accuracy: 0.6531 - val_loss: 0.6537 - val_accuracy: 0.6429\n",
      "Epoch 8/50\n",
      "20/20 [==============================] - 0s 5ms/step - loss: 0.6475 - accuracy: 0.6531 - val_loss: 0.6522 - val_accuracy: 0.6429\n",
      "Epoch 9/50\n",
      "20/20 [==============================] - 0s 4ms/step - loss: 0.6466 - accuracy: 0.6531 - val_loss: 0.6518 - val_accuracy: 0.6429\n",
      "Epoch 10/50\n",
      "20/20 [==============================] - 0s 4ms/step - loss: 0.6459 - accuracy: 0.6531 - val_loss: 0.6518 - val_accuracy: 0.6429\n",
      "Epoch 11/50\n",
      "20/20 [==============================] - 0s 5ms/step - loss: 0.6457 - accuracy: 0.6531 - val_loss: 0.6518 - val_accuracy: 0.6429\n",
      "Epoch 12/50\n",
      "20/20 [==============================] - 0s 5ms/step - loss: 0.6456 - accuracy: 0.6531 - val_loss: 0.6518 - val_accuracy: 0.6429\n",
      "Epoch 13/50\n",
      "20/20 [==============================] - 0s 5ms/step - loss: 0.6456 - accuracy: 0.6531 - val_loss: 0.6518 - val_accuracy: 0.6429\n",
      "Epoch 14/50\n",
      "20/20 [==============================] - 0s 4ms/step - loss: 0.6457 - accuracy: 0.6531 - val_loss: 0.6518 - val_accuracy: 0.6429\n"
     ]
    }
   ],
   "source": [
    "from tensorflow.keras.callbacks import EarlyStopping\n",
    "\n",
    "\n",
    "# Define early stopping to avoid overfitting\n",
    "\n",
    "early_stopping = EarlyStopping(monitor= \"val_loss\", patience = 5)\n",
    "\n",
    "# Train the model with early stopping\n",
    "history = model.fit(x_train,y_train, epochs = 50,batch_size = 32, validation_data =(x_test,y_test),callbacks = [early_stopping])"
   ]
  },
  {
   "cell_type": "code",
   "execution_count": 22,
   "id": "c1eae868-1708-4409-9793-2957645667a6",
   "metadata": {},
   "outputs": [],
   "source": [
    "# save\n",
    "# Save the model\n",
    "model.save('diabetes_prediction_model.h5')\n"
   ]
  },
  {
   "cell_type": "markdown",
   "id": "b7a95d68-f5a8-4bbc-9596-b06f0cf6378d",
   "metadata": {},
   "source": [
    "# Step 7: Visualization "
   ]
  },
  {
   "cell_type": "code",
   "execution_count": 23,
   "id": "4e262fed-256d-4350-afd8-75bf661e5453",
   "metadata": {},
   "outputs": [
    {
     "data": {
      "image/png": "[encoded data removed]",
      "text/plain": [
       "<Figure size 640x480 with 1 Axes>"
      ]
     },
     "metadata": {},
     "output_type": "display_data"
    }
   ],
   "source": [
    "import matplotlib.pyplot as plt\n",
    "\n",
    "# Plotting the training and validation accuracy\n",
    "plt.plot(history.history['accuracy'], label='accuracy')\n",
    "plt.plot(history.history['val_accuracy'], label = 'val_accuracy')\n",
    "plt.xlabel('Epochs')\n",
    "plt.ylabel('Accuracy')\n",
    "plt.legend(loc='upper left')\n",
    "plt.title('Model Accuracy')\n",
    "plt.show()"
   ]
  },
  {
   "cell_type": "code",
   "execution_count": 24,
   "id": "ad6b518c-20e5-4f89-845a-fe60780650ae",
   "metadata": {},
   "outputs": [
    {
     "data": {
      "image/png": "[encoded data removed]",
      "text/plain": [
       "<Figure size 640x480 with 1 Axes>"
      ]
     },
     "metadata": {},
     "output_type": "display_data"
    }
   ],
   "source": [
    "\n",
    "# Plotting the training and validation loss\n",
    "plt.plot(history.history['loss'], label='loss')\n",
    "plt.plot(history.history['val_loss'], label='val_loss')\n",
    "plt.xlabel('Epochs')\n",
    "plt.ylabel('Loss')\n",
    "plt.legend(loc='upper right')\n",
    "plt.title('Model Loss')\n",
    "plt.show()"
   ]
  },
  {
   "cell_type": "markdown",
   "id": "9e828998-14e8-4a64-bcd8-476c975087a4",
   "metadata": {},
   "source": [
    "# Step 8: Compare with Other Models (SVM, RandomForest).\n",
    "e'll compare the performance of the Neural Network (NN) model we created with some classical machine learning models, like Support Vector Machine (SVM) and Random Forest. This gives you a chance to show that you understand both deep learning models and more traditional machine learning algorithms"
   ]
  },
  {
   "cell_type": "markdown",
   "id": "02a65c6e-513e-4fb7-b399-f670985908c3",
   "metadata": {},
   "source": [
    "# Step 8.1: Import the Classical Models\n",
    "\n",
    "SVC: Support Vector Classifier (SVM)\n",
    "\n",
    "RandomForestClassifier: Random Forest Classifier (ensemble method)\n",
    "\n",
    "stratify=y: Ensures that both training and test sets have the same proportion of classes (0 and 1). Very useful for imbalanced datasets like this one!\n",
    "\n"
   ]
  },
  {
   "cell_type": "code",
   "execution_count": 25,
   "id": "b3e7c7db-af22-4d64-9d34-d536cb72e917",
   "metadata": {},
   "outputs": [],
   "source": [
    "from sklearn.model_selection import train_test_split\n",
    "from sklearn.svm import SVC\n",
    "from sklearn.ensemble import RandomForestClassifier\n",
    "from sklearn.metrics import classification_report, accuracy_score"
   ]
  },
  {
   "cell_type": "markdown",
   "id": "d4f9216e-58db-4859-ae08-78d4c0dfe7d2",
   "metadata": {},
   "source": [
    "#  Step 8.2: Prepare the Data\n"
   ]
  },
  {
   "cell_type": "code",
   "execution_count": 34,
   "id": "036c4d15-75be-4211-861d-5b68b93a805c",
   "metadata": {},
   "outputs": [],
   "source": [
    "\n",
    "# Make sure you have X and y \n",
    "X = df.drop('Outcome', axis=1)  # Features (drop target column)\n",
    "y = df['Outcome']              # Target variable\n",
    "\n",
    "# Split the data into training and test sets\n",
    "x_train, x_test, y_train, y_test = train_test_split(x, y, test_size=0.2, random_state=42,stratify = y)\n"
   ]
  },
  {
   "cell_type": "code",
   "execution_count": 35,
   "id": "88f179f6-e6d6-46eb-83fc-eb40d9012f91",
   "metadata": {},
   "outputs": [],
   "source": [
    "from sklearn.preprocessing import StandardScaler\n",
    "\n",
    "scaler = StandardScaler()\n",
    "x_train_scaled = scaler.fit_transform(x_train)\n",
    "x_test_scaled = scaler.transform(x_test)\n"
   ]
  },
  {
   "cell_type": "markdown",
   "id": "a31a53a0-0250-43e2-a22f-3c091d064ab2",
   "metadata": {},
   "source": [
    "# step 8.3 Train the Support Vector Machine (SVM)"
   ]
  },
  {
   "cell_type": "code",
   "execution_count": 36,
   "id": "a44f8967-38aa-4302-b038-9a75a8e7b052",
   "metadata": {},
   "outputs": [
    {
     "ename": "ValueError",
     "evalue": "Input X contains NaN.\nSVC does not accept missing values encoded as NaN natively. For supervised learning, you might want to consider sklearn.ensemble.HistGradientBoostingClassifier and Regressor which accept missing values encoded as NaNs natively. Alternatively, it is possible to preprocess the data, for instance by using an imputer transformer in a pipeline or drop samples with missing values. See https://scikit-learn.org/stable/modules/impute.html You can find a list of all estimators that handle NaN values at the following page: https://scikit-learn.org/stable/modules/impute.html#estimators-that-handle-nan-values",
     "output_type": "error",
     "traceback": [
      "\u001b[1;31m---------------------------------------------------------------------------\u001b[0m",
      "\u001b[1;31mValueError\u001b[0m                                Traceback (most recent call last)",
      "Cell \u001b[1;32mIn[36], line 3\u001b[0m\n\u001b[0;32m      1\u001b[0m \u001b[38;5;66;03m# Initialize and train the SVM model\u001b[39;00m\n\u001b[0;32m      2\u001b[0m svm_model \u001b[38;5;241m=\u001b[39m SVC(kernel \u001b[38;5;241m=\u001b[39m\u001b[38;5;124m'\u001b[39m\u001b[38;5;124mrbf\u001b[39m\u001b[38;5;124m'\u001b[39m, random_state \u001b[38;5;241m=\u001b[39m \u001b[38;5;241m42\u001b[39m)\n\u001b[1;32m----> 3\u001b[0m \u001b[43msvm_model\u001b[49m\u001b[38;5;241;43m.\u001b[39;49m\u001b[43mfit\u001b[49m\u001b[43m(\u001b[49m\u001b[43mx_train\u001b[49m\u001b[43m,\u001b[49m\u001b[43my_train\u001b[49m\u001b[43m)\u001b[49m\n\u001b[0;32m      5\u001b[0m \u001b[38;5;66;03m# Make predictions on the test set\u001b[39;00m\n\u001b[0;32m      6\u001b[0m svm_predictions \u001b[38;5;241m=\u001b[39m svm_model\u001b[38;5;241m.\u001b[39mpredict(x_test)\n",
      "File \u001b[1;32m~\\miniconda3\\envs\\myenv\\lib\\site-packages\\sklearn\\base.py:1389\u001b[0m, in \u001b[0;36m_fit_context.<locals>.decorator.<locals>.wrapper\u001b[1;34m(estimator, *args, **kwargs)\u001b[0m\n\u001b[0;32m   1382\u001b[0m     estimator\u001b[38;5;241m.\u001b[39m_validate_params()\n\u001b[0;32m   1384\u001b[0m \u001b[38;5;28;01mwith\u001b[39;00m config_context(\n\u001b[0;32m   1385\u001b[0m     skip_parameter_validation\u001b[38;5;241m=\u001b[39m(\n\u001b[0;32m   1386\u001b[0m         prefer_skip_nested_validation \u001b[38;5;129;01mor\u001b[39;00m global_skip_validation\n\u001b[0;32m   1387\u001b[0m     )\n\u001b[0;32m   1388\u001b[0m ):\n\u001b[1;32m-> 1389\u001b[0m     \u001b[38;5;28;01mreturn\u001b[39;00m fit_method(estimator, \u001b[38;5;241m*\u001b[39margs, \u001b[38;5;241m*\u001b[39m\u001b[38;5;241m*\u001b[39mkwargs)\n",
      "File \u001b[1;32m~\\miniconda3\\envs\\myenv\\lib\\site-packages\\sklearn\\svm\\_base.py:197\u001b[0m, in \u001b[0;36mBaseLibSVM.fit\u001b[1;34m(self, X, y, sample_weight)\u001b[0m\n\u001b[0;32m    195\u001b[0m     check_consistent_length(X, y)\n\u001b[0;32m    196\u001b[0m \u001b[38;5;28;01melse\u001b[39;00m:\n\u001b[1;32m--> 197\u001b[0m     X, y \u001b[38;5;241m=\u001b[39m \u001b[43mvalidate_data\u001b[49m\u001b[43m(\u001b[49m\n\u001b[0;32m    198\u001b[0m \u001b[43m        \u001b[49m\u001b[38;5;28;43mself\u001b[39;49m\u001b[43m,\u001b[49m\n\u001b[0;32m    199\u001b[0m \u001b[43m        \u001b[49m\u001b[43mX\u001b[49m\u001b[43m,\u001b[49m\n\u001b[0;32m    200\u001b[0m \u001b[43m        \u001b[49m\u001b[43my\u001b[49m\u001b[43m,\u001b[49m\n\u001b[0;32m    201\u001b[0m \u001b[43m        \u001b[49m\u001b[43mdtype\u001b[49m\u001b[38;5;241;43m=\u001b[39;49m\u001b[43mnp\u001b[49m\u001b[38;5;241;43m.\u001b[39;49m\u001b[43mfloat64\u001b[49m\u001b[43m,\u001b[49m\n\u001b[0;32m    202\u001b[0m \u001b[43m        \u001b[49m\u001b[43morder\u001b[49m\u001b[38;5;241;43m=\u001b[39;49m\u001b[38;5;124;43m\"\u001b[39;49m\u001b[38;5;124;43mC\u001b[39;49m\u001b[38;5;124;43m\"\u001b[39;49m\u001b[43m,\u001b[49m\n\u001b[0;32m    203\u001b[0m \u001b[43m        \u001b[49m\u001b[43maccept_sparse\u001b[49m\u001b[38;5;241;43m=\u001b[39;49m\u001b[38;5;124;43m\"\u001b[39;49m\u001b[38;5;124;43mcsr\u001b[39;49m\u001b[38;5;124;43m\"\u001b[39;49m\u001b[43m,\u001b[49m\n\u001b[0;32m    204\u001b[0m \u001b[43m        \u001b[49m\u001b[43maccept_large_sparse\u001b[49m\u001b[38;5;241;43m=\u001b[39;49m\u001b[38;5;28;43;01mFalse\u001b[39;49;00m\u001b[43m,\u001b[49m\n\u001b[0;32m    205\u001b[0m \u001b[43m    \u001b[49m\u001b[43m)\u001b[49m\n\u001b[0;32m    207\u001b[0m y \u001b[38;5;241m=\u001b[39m \u001b[38;5;28mself\u001b[39m\u001b[38;5;241m.\u001b[39m_validate_targets(y)\n\u001b[0;32m    209\u001b[0m sample_weight \u001b[38;5;241m=\u001b[39m np\u001b[38;5;241m.\u001b[39masarray(\n\u001b[0;32m    210\u001b[0m     [] \u001b[38;5;28;01mif\u001b[39;00m sample_weight \u001b[38;5;129;01mis\u001b[39;00m \u001b[38;5;28;01mNone\u001b[39;00m \u001b[38;5;28;01melse\u001b[39;00m sample_weight, dtype\u001b[38;5;241m=\u001b[39mnp\u001b[38;5;241m.\u001b[39mfloat64\n\u001b[0;32m    211\u001b[0m )\n",
      "File \u001b[1;32m~\\miniconda3\\envs\\myenv\\lib\\site-packages\\sklearn\\utils\\validation.py:2961\u001b[0m, in \u001b[0;36mvalidate_data\u001b[1;34m(_estimator, X, y, reset, validate_separately, skip_check_array, **check_params)\u001b[0m\n\u001b[0;32m   2959\u001b[0m         y \u001b[38;5;241m=\u001b[39m check_array(y, input_name\u001b[38;5;241m=\u001b[39m\u001b[38;5;124m\"\u001b[39m\u001b[38;5;124my\u001b[39m\u001b[38;5;124m\"\u001b[39m, \u001b[38;5;241m*\u001b[39m\u001b[38;5;241m*\u001b[39mcheck_y_params)\n\u001b[0;32m   2960\u001b[0m     \u001b[38;5;28;01melse\u001b[39;00m:\n\u001b[1;32m-> 2961\u001b[0m         X, y \u001b[38;5;241m=\u001b[39m check_X_y(X, y, \u001b[38;5;241m*\u001b[39m\u001b[38;5;241m*\u001b[39mcheck_params)\n\u001b[0;32m   2962\u001b[0m     out \u001b[38;5;241m=\u001b[39m X, y\n\u001b[0;32m   2964\u001b[0m \u001b[38;5;28;01mif\u001b[39;00m \u001b[38;5;129;01mnot\u001b[39;00m no_val_X \u001b[38;5;129;01mand\u001b[39;00m check_params\u001b[38;5;241m.\u001b[39mget(\u001b[38;5;124m\"\u001b[39m\u001b[38;5;124mensure_2d\u001b[39m\u001b[38;5;124m\"\u001b[39m, \u001b[38;5;28;01mTrue\u001b[39;00m):\n",
      "File \u001b[1;32m~\\miniconda3\\envs\\myenv\\lib\\site-packages\\sklearn\\utils\\validation.py:1370\u001b[0m, in \u001b[0;36mcheck_X_y\u001b[1;34m(X, y, accept_sparse, accept_large_sparse, dtype, order, copy, force_writeable, force_all_finite, ensure_all_finite, ensure_2d, allow_nd, multi_output, ensure_min_samples, ensure_min_features, y_numeric, estimator)\u001b[0m\n\u001b[0;32m   1364\u001b[0m     \u001b[38;5;28;01mraise\u001b[39;00m \u001b[38;5;167;01mValueError\u001b[39;00m(\n\u001b[0;32m   1365\u001b[0m         \u001b[38;5;124mf\u001b[39m\u001b[38;5;124m\"\u001b[39m\u001b[38;5;132;01m{\u001b[39;00mestimator_name\u001b[38;5;132;01m}\u001b[39;00m\u001b[38;5;124m requires y to be passed, but the target y is None\u001b[39m\u001b[38;5;124m\"\u001b[39m\n\u001b[0;32m   1366\u001b[0m     )\n\u001b[0;32m   1368\u001b[0m ensure_all_finite \u001b[38;5;241m=\u001b[39m _deprecate_force_all_finite(force_all_finite, ensure_all_finite)\n\u001b[1;32m-> 1370\u001b[0m X \u001b[38;5;241m=\u001b[39m \u001b[43mcheck_array\u001b[49m\u001b[43m(\u001b[49m\n\u001b[0;32m   1371\u001b[0m \u001b[43m    \u001b[49m\u001b[43mX\u001b[49m\u001b[43m,\u001b[49m\n\u001b[0;32m   1372\u001b[0m \u001b[43m    \u001b[49m\u001b[43maccept_sparse\u001b[49m\u001b[38;5;241;43m=\u001b[39;49m\u001b[43maccept_sparse\u001b[49m\u001b[43m,\u001b[49m\n\u001b[0;32m   1373\u001b[0m \u001b[43m    \u001b[49m\u001b[43maccept_large_sparse\u001b[49m\u001b[38;5;241;43m=\u001b[39;49m\u001b[43maccept_large_sparse\u001b[49m\u001b[43m,\u001b[49m\n\u001b[0;32m   1374\u001b[0m \u001b[43m    \u001b[49m\u001b[43mdtype\u001b[49m\u001b[38;5;241;43m=\u001b[39;49m\u001b[43mdtype\u001b[49m\u001b[43m,\u001b[49m\n\u001b[0;32m   1375\u001b[0m \u001b[43m    \u001b[49m\u001b[43morder\u001b[49m\u001b[38;5;241;43m=\u001b[39;49m\u001b[43morder\u001b[49m\u001b[43m,\u001b[49m\n\u001b[0;32m   1376\u001b[0m \u001b[43m    \u001b[49m\u001b[43mcopy\u001b[49m\u001b[38;5;241;43m=\u001b[39;49m\u001b[43mcopy\u001b[49m\u001b[43m,\u001b[49m\n\u001b[0;32m   1377\u001b[0m \u001b[43m    \u001b[49m\u001b[43mforce_writeable\u001b[49m\u001b[38;5;241;43m=\u001b[39;49m\u001b[43mforce_writeable\u001b[49m\u001b[43m,\u001b[49m\n\u001b[0;32m   1378\u001b[0m \u001b[43m    \u001b[49m\u001b[43mensure_all_finite\u001b[49m\u001b[38;5;241;43m=\u001b[39;49m\u001b[43mensure_all_finite\u001b[49m\u001b[43m,\u001b[49m\n\u001b[0;32m   1379\u001b[0m \u001b[43m    \u001b[49m\u001b[43mensure_2d\u001b[49m\u001b[38;5;241;43m=\u001b[39;49m\u001b[43mensure_2d\u001b[49m\u001b[43m,\u001b[49m\n\u001b[0;32m   1380\u001b[0m \u001b[43m    \u001b[49m\u001b[43mallow_nd\u001b[49m\u001b[38;5;241;43m=\u001b[39;49m\u001b[43mallow_nd\u001b[49m\u001b[43m,\u001b[49m\n\u001b[0;32m   1381\u001b[0m \u001b[43m    \u001b[49m\u001b[43mensure_min_samples\u001b[49m\u001b[38;5;241;43m=\u001b[39;49m\u001b[43mensure_min_samples\u001b[49m\u001b[43m,\u001b[49m\n\u001b[0;32m   1382\u001b[0m \u001b[43m    \u001b[49m\u001b[43mensure_min_features\u001b[49m\u001b[38;5;241;43m=\u001b[39;49m\u001b[43mensure_min_features\u001b[49m\u001b[43m,\u001b[49m\n\u001b[0;32m   1383\u001b[0m \u001b[43m    \u001b[49m\u001b[43mestimator\u001b[49m\u001b[38;5;241;43m=\u001b[39;49m\u001b[43mestimator\u001b[49m\u001b[43m,\u001b[49m\n\u001b[0;32m   1384\u001b[0m \u001b[43m    \u001b[49m\u001b[43minput_name\u001b[49m\u001b[38;5;241;43m=\u001b[39;49m\u001b[38;5;124;43m\"\u001b[39;49m\u001b[38;5;124;43mX\u001b[39;49m\u001b[38;5;124;43m\"\u001b[39;49m\u001b[43m,\u001b[49m\n\u001b[0;32m   1385\u001b[0m \u001b[43m\u001b[49m\u001b[43m)\u001b[49m\n\u001b[0;32m   1387\u001b[0m y \u001b[38;5;241m=\u001b[39m _check_y(y, multi_output\u001b[38;5;241m=\u001b[39mmulti_output, y_numeric\u001b[38;5;241m=\u001b[39my_numeric, estimator\u001b[38;5;241m=\u001b[39mestimator)\n\u001b[0;32m   1389\u001b[0m check_consistent_length(X, y)\n",
      "File \u001b[1;32m~\\miniconda3\\envs\\myenv\\lib\\site-packages\\sklearn\\utils\\validation.py:1107\u001b[0m, in \u001b[0;36mcheck_array\u001b[1;34m(array, accept_sparse, accept_large_sparse, dtype, order, copy, force_writeable, force_all_finite, ensure_all_finite, ensure_non_negative, ensure_2d, allow_nd, ensure_min_samples, ensure_min_features, estimator, input_name)\u001b[0m\n\u001b[0;32m   1101\u001b[0m     \u001b[38;5;28;01mraise\u001b[39;00m \u001b[38;5;167;01mValueError\u001b[39;00m(\n\u001b[0;32m   1102\u001b[0m         \u001b[38;5;124m\"\u001b[39m\u001b[38;5;124mFound array with dim \u001b[39m\u001b[38;5;132;01m%d\u001b[39;00m\u001b[38;5;124m. \u001b[39m\u001b[38;5;132;01m%s\u001b[39;00m\u001b[38;5;124m expected <= 2.\u001b[39m\u001b[38;5;124m\"\u001b[39m\n\u001b[0;32m   1103\u001b[0m         \u001b[38;5;241m%\u001b[39m (array\u001b[38;5;241m.\u001b[39mndim, estimator_name)\n\u001b[0;32m   1104\u001b[0m     )\n\u001b[0;32m   1106\u001b[0m \u001b[38;5;28;01mif\u001b[39;00m ensure_all_finite:\n\u001b[1;32m-> 1107\u001b[0m     \u001b[43m_assert_all_finite\u001b[49m\u001b[43m(\u001b[49m\n\u001b[0;32m   1108\u001b[0m \u001b[43m        \u001b[49m\u001b[43marray\u001b[49m\u001b[43m,\u001b[49m\n\u001b[0;32m   1109\u001b[0m \u001b[43m        \u001b[49m\u001b[43minput_name\u001b[49m\u001b[38;5;241;43m=\u001b[39;49m\u001b[43minput_name\u001b[49m\u001b[43m,\u001b[49m\n\u001b[0;32m   1110\u001b[0m \u001b[43m        \u001b[49m\u001b[43mestimator_name\u001b[49m\u001b[38;5;241;43m=\u001b[39;49m\u001b[43mestimator_name\u001b[49m\u001b[43m,\u001b[49m\n\u001b[0;32m   1111\u001b[0m \u001b[43m        \u001b[49m\u001b[43mallow_nan\u001b[49m\u001b[38;5;241;43m=\u001b[39;49m\u001b[43mensure_all_finite\u001b[49m\u001b[43m \u001b[49m\u001b[38;5;241;43m==\u001b[39;49m\u001b[43m \u001b[49m\u001b[38;5;124;43m\"\u001b[39;49m\u001b[38;5;124;43mallow-nan\u001b[39;49m\u001b[38;5;124;43m\"\u001b[39;49m\u001b[43m,\u001b[49m\n\u001b[0;32m   1112\u001b[0m \u001b[43m    \u001b[49m\u001b[43m)\u001b[49m\n\u001b[0;32m   1114\u001b[0m \u001b[38;5;28;01mif\u001b[39;00m copy:\n\u001b[0;32m   1115\u001b[0m     \u001b[38;5;28;01mif\u001b[39;00m _is_numpy_namespace(xp):\n\u001b[0;32m   1116\u001b[0m         \u001b[38;5;66;03m# only make a copy if `array` and `array_orig` may share memory`\u001b[39;00m\n",
      "File \u001b[1;32m~\\miniconda3\\envs\\myenv\\lib\\site-packages\\sklearn\\utils\\validation.py:120\u001b[0m, in \u001b[0;36m_assert_all_finite\u001b[1;34m(X, allow_nan, msg_dtype, estimator_name, input_name)\u001b[0m\n\u001b[0;32m    117\u001b[0m \u001b[38;5;28;01mif\u001b[39;00m first_pass_isfinite:\n\u001b[0;32m    118\u001b[0m     \u001b[38;5;28;01mreturn\u001b[39;00m\n\u001b[1;32m--> 120\u001b[0m \u001b[43m_assert_all_finite_element_wise\u001b[49m\u001b[43m(\u001b[49m\n\u001b[0;32m    121\u001b[0m \u001b[43m    \u001b[49m\u001b[43mX\u001b[49m\u001b[43m,\u001b[49m\n\u001b[0;32m    122\u001b[0m \u001b[43m    \u001b[49m\u001b[43mxp\u001b[49m\u001b[38;5;241;43m=\u001b[39;49m\u001b[43mxp\u001b[49m\u001b[43m,\u001b[49m\n\u001b[0;32m    123\u001b[0m \u001b[43m    \u001b[49m\u001b[43mallow_nan\u001b[49m\u001b[38;5;241;43m=\u001b[39;49m\u001b[43mallow_nan\u001b[49m\u001b[43m,\u001b[49m\n\u001b[0;32m    124\u001b[0m \u001b[43m    \u001b[49m\u001b[43mmsg_dtype\u001b[49m\u001b[38;5;241;43m=\u001b[39;49m\u001b[43mmsg_dtype\u001b[49m\u001b[43m,\u001b[49m\n\u001b[0;32m    125\u001b[0m \u001b[43m    \u001b[49m\u001b[43mestimator_name\u001b[49m\u001b[38;5;241;43m=\u001b[39;49m\u001b[43mestimator_name\u001b[49m\u001b[43m,\u001b[49m\n\u001b[0;32m    126\u001b[0m \u001b[43m    \u001b[49m\u001b[43minput_name\u001b[49m\u001b[38;5;241;43m=\u001b[39;49m\u001b[43minput_name\u001b[49m\u001b[43m,\u001b[49m\n\u001b[0;32m    127\u001b[0m \u001b[43m\u001b[49m\u001b[43m)\u001b[49m\n",
      "File \u001b[1;32m~\\miniconda3\\envs\\myenv\\lib\\site-packages\\sklearn\\utils\\validation.py:169\u001b[0m, in \u001b[0;36m_assert_all_finite_element_wise\u001b[1;34m(X, xp, allow_nan, msg_dtype, estimator_name, input_name)\u001b[0m\n\u001b[0;32m    152\u001b[0m \u001b[38;5;28;01mif\u001b[39;00m estimator_name \u001b[38;5;129;01mand\u001b[39;00m input_name \u001b[38;5;241m==\u001b[39m \u001b[38;5;124m\"\u001b[39m\u001b[38;5;124mX\u001b[39m\u001b[38;5;124m\"\u001b[39m \u001b[38;5;129;01mand\u001b[39;00m has_nan_error:\n\u001b[0;32m    153\u001b[0m     \u001b[38;5;66;03m# Improve the error message on how to handle missing values in\u001b[39;00m\n\u001b[0;32m    154\u001b[0m     \u001b[38;5;66;03m# scikit-learn.\u001b[39;00m\n\u001b[0;32m    155\u001b[0m     msg_err \u001b[38;5;241m+\u001b[39m\u001b[38;5;241m=\u001b[39m (\n\u001b[0;32m    156\u001b[0m         \u001b[38;5;124mf\u001b[39m\u001b[38;5;124m\"\u001b[39m\u001b[38;5;130;01m\\n\u001b[39;00m\u001b[38;5;132;01m{\u001b[39;00mestimator_name\u001b[38;5;132;01m}\u001b[39;00m\u001b[38;5;124m does not accept missing values\u001b[39m\u001b[38;5;124m\"\u001b[39m\n\u001b[0;32m    157\u001b[0m         \u001b[38;5;124m\"\u001b[39m\u001b[38;5;124m encoded as NaN natively. For supervised learning, you might want\u001b[39m\u001b[38;5;124m\"\u001b[39m\n\u001b[1;32m   (...)\u001b[0m\n\u001b[0;32m    167\u001b[0m         \u001b[38;5;124m\"\u001b[39m\u001b[38;5;124m#estimators-that-handle-nan-values\u001b[39m\u001b[38;5;124m\"\u001b[39m\n\u001b[0;32m    168\u001b[0m     )\n\u001b[1;32m--> 169\u001b[0m \u001b[38;5;28;01mraise\u001b[39;00m \u001b[38;5;167;01mValueError\u001b[39;00m(msg_err)\n",
      "\u001b[1;31mValueError\u001b[0m: Input X contains NaN.\nSVC does not accept missing values encoded as NaN natively. For supervised learning, you might want to consider sklearn.ensemble.HistGradientBoostingClassifier and Regressor which accept missing values encoded as NaNs natively. Alternatively, it is possible to preprocess the data, for instance by using an imputer transformer in a pipeline or drop samples with missing values. See https://scikit-learn.org/stable/modules/impute.html You can find a list of all estimators that handle NaN values at the following page: https://scikit-learn.org/stable/modules/impute.html#estimators-that-handle-nan-values"
     ]
    }
   ],
   "source": [
    "# Initialize and train the SVM model\n",
    "svm_model = SVC(kernel ='rbf', random_state = 42)\n",
    "svm_model.fit(x_train,y_train)\n",
    "\n",
    "# Make predictions on the test set\n",
    "svm_predictions = svm_model.predict(x_test)\n",
    "\n",
    "# Evaluate the model\n",
    "svm_accuracy = accuracy_score(y_test, svm_predictions)\n",
    "print(f\"SWM ACCURACY: {svm_accuracy * 100:.2f}%\")\n",
    "print(\"Classification Report:\")\n",
    "print(classification_report(y_test, svm_predictions))\n"
   ]
  },
  {
   "cell_type": "markdown",
   "id": "348efb7a-faec-4294-af19-d001ee9497f4",
   "metadata": {},
   "source": [
    "# The error you're encountering occurs because your input data (x_train) contains missing values (NaN), and the SVC model from scikit-learn cannot handle these missing values.\n",
    "To resolve this, you can either:\n",
    "\n",
    "Remove the rows with missing values from x_train and y_train.\n",
    "\n",
    "Impute the missing values by filling them with a placeholder value, such as the mean or median."
   ]
  },
  {
   "cell_type": "code",
   "execution_count": 37,
   "id": "fab16e87-036f-4ddf-af72-5382418d894e",
   "metadata": {},
   "outputs": [
    {
     "ename": "ValueError",
     "evalue": "Found input variables with inconsistent numbers of samples: [322, 614]",
     "output_type": "error",
     "traceback": [
      "\u001b[1;31m---------------------------------------------------------------------------\u001b[0m",
      "\u001b[1;31mValueError\u001b[0m                                Traceback (most recent call last)",
      "Cell \u001b[1;32mIn[37], line 7\u001b[0m\n\u001b[0;32m      4\u001b[0m x_train_clean, y_train_clean \u001b[38;5;241m=\u001b[39m x_train\u001b[38;5;241m.\u001b[39mdropna(), y_train\u001b[38;5;241m.\u001b[39mdropna()\n\u001b[0;32m      6\u001b[0m \u001b[38;5;66;03m# Now fit the model\u001b[39;00m\n\u001b[1;32m----> 7\u001b[0m \u001b[43msvm_model\u001b[49m\u001b[38;5;241;43m.\u001b[39;49m\u001b[43mfit\u001b[49m\u001b[43m(\u001b[49m\u001b[43mx_train_clean\u001b[49m\u001b[43m,\u001b[49m\u001b[43m \u001b[49m\u001b[43my_train_clean\u001b[49m\u001b[43m)\u001b[49m\n",
      "File \u001b[1;32m~\\miniconda3\\envs\\myenv\\lib\\site-packages\\sklearn\\base.py:1389\u001b[0m, in \u001b[0;36m_fit_context.<locals>.decorator.<locals>.wrapper\u001b[1;34m(estimator, *args, **kwargs)\u001b[0m\n\u001b[0;32m   1382\u001b[0m     estimator\u001b[38;5;241m.\u001b[39m_validate_params()\n\u001b[0;32m   1384\u001b[0m \u001b[38;5;28;01mwith\u001b[39;00m config_context(\n\u001b[0;32m   1385\u001b[0m     skip_parameter_validation\u001b[38;5;241m=\u001b[39m(\n\u001b[0;32m   1386\u001b[0m         prefer_skip_nested_validation \u001b[38;5;129;01mor\u001b[39;00m global_skip_validation\n\u001b[0;32m   1387\u001b[0m     )\n\u001b[0;32m   1388\u001b[0m ):\n\u001b[1;32m-> 1389\u001b[0m     \u001b[38;5;28;01mreturn\u001b[39;00m fit_method(estimator, \u001b[38;5;241m*\u001b[39margs, \u001b[38;5;241m*\u001b[39m\u001b[38;5;241m*\u001b[39mkwargs)\n",
      "File \u001b[1;32m~\\miniconda3\\envs\\myenv\\lib\\site-packages\\sklearn\\svm\\_base.py:197\u001b[0m, in \u001b[0;36mBaseLibSVM.fit\u001b[1;34m(self, X, y, sample_weight)\u001b[0m\n\u001b[0;32m    195\u001b[0m     check_consistent_length(X, y)\n\u001b[0;32m    196\u001b[0m \u001b[38;5;28;01melse\u001b[39;00m:\n\u001b[1;32m--> 197\u001b[0m     X, y \u001b[38;5;241m=\u001b[39m \u001b[43mvalidate_data\u001b[49m\u001b[43m(\u001b[49m\n\u001b[0;32m    198\u001b[0m \u001b[43m        \u001b[49m\u001b[38;5;28;43mself\u001b[39;49m\u001b[43m,\u001b[49m\n\u001b[0;32m    199\u001b[0m \u001b[43m        \u001b[49m\u001b[43mX\u001b[49m\u001b[43m,\u001b[49m\n\u001b[0;32m    200\u001b[0m \u001b[43m        \u001b[49m\u001b[43my\u001b[49m\u001b[43m,\u001b[49m\n\u001b[0;32m    201\u001b[0m \u001b[43m        \u001b[49m\u001b[43mdtype\u001b[49m\u001b[38;5;241;43m=\u001b[39;49m\u001b[43mnp\u001b[49m\u001b[38;5;241;43m.\u001b[39;49m\u001b[43mfloat64\u001b[49m\u001b[43m,\u001b[49m\n\u001b[0;32m    202\u001b[0m \u001b[43m        \u001b[49m\u001b[43morder\u001b[49m\u001b[38;5;241;43m=\u001b[39;49m\u001b[38;5;124;43m\"\u001b[39;49m\u001b[38;5;124;43mC\u001b[39;49m\u001b[38;5;124;43m\"\u001b[39;49m\u001b[43m,\u001b[49m\n\u001b[0;32m    203\u001b[0m \u001b[43m        \u001b[49m\u001b[43maccept_sparse\u001b[49m\u001b[38;5;241;43m=\u001b[39;49m\u001b[38;5;124;43m\"\u001b[39;49m\u001b[38;5;124;43mcsr\u001b[39;49m\u001b[38;5;124;43m\"\u001b[39;49m\u001b[43m,\u001b[49m\n\u001b[0;32m    204\u001b[0m \u001b[43m        \u001b[49m\u001b[43maccept_large_sparse\u001b[49m\u001b[38;5;241;43m=\u001b[39;49m\u001b[38;5;28;43;01mFalse\u001b[39;49;00m\u001b[43m,\u001b[49m\n\u001b[0;32m    205\u001b[0m \u001b[43m    \u001b[49m\u001b[43m)\u001b[49m\n\u001b[0;32m    207\u001b[0m y \u001b[38;5;241m=\u001b[39m \u001b[38;5;28mself\u001b[39m\u001b[38;5;241m.\u001b[39m_validate_targets(y)\n\u001b[0;32m    209\u001b[0m sample_weight \u001b[38;5;241m=\u001b[39m np\u001b[38;5;241m.\u001b[39masarray(\n\u001b[0;32m    210\u001b[0m     [] \u001b[38;5;28;01mif\u001b[39;00m sample_weight \u001b[38;5;129;01mis\u001b[39;00m \u001b[38;5;28;01mNone\u001b[39;00m \u001b[38;5;28;01melse\u001b[39;00m sample_weight, dtype\u001b[38;5;241m=\u001b[39mnp\u001b[38;5;241m.\u001b[39mfloat64\n\u001b[0;32m    211\u001b[0m )\n",
      "File \u001b[1;32m~\\miniconda3\\envs\\myenv\\lib\\site-packages\\sklearn\\utils\\validation.py:2961\u001b[0m, in \u001b[0;36mvalidate_data\u001b[1;34m(_estimator, X, y, reset, validate_separately, skip_check_array, **check_params)\u001b[0m\n\u001b[0;32m   2959\u001b[0m         y \u001b[38;5;241m=\u001b[39m check_array(y, input_name\u001b[38;5;241m=\u001b[39m\u001b[38;5;124m\"\u001b[39m\u001b[38;5;124my\u001b[39m\u001b[38;5;124m\"\u001b[39m, \u001b[38;5;241m*\u001b[39m\u001b[38;5;241m*\u001b[39mcheck_y_params)\n\u001b[0;32m   2960\u001b[0m     \u001b[38;5;28;01melse\u001b[39;00m:\n\u001b[1;32m-> 2961\u001b[0m         X, y \u001b[38;5;241m=\u001b[39m check_X_y(X, y, \u001b[38;5;241m*\u001b[39m\u001b[38;5;241m*\u001b[39mcheck_params)\n\u001b[0;32m   2962\u001b[0m     out \u001b[38;5;241m=\u001b[39m X, y\n\u001b[0;32m   2964\u001b[0m \u001b[38;5;28;01mif\u001b[39;00m \u001b[38;5;129;01mnot\u001b[39;00m no_val_X \u001b[38;5;129;01mand\u001b[39;00m check_params\u001b[38;5;241m.\u001b[39mget(\u001b[38;5;124m\"\u001b[39m\u001b[38;5;124mensure_2d\u001b[39m\u001b[38;5;124m\"\u001b[39m, \u001b[38;5;28;01mTrue\u001b[39;00m):\n",
      "File \u001b[1;32m~\\miniconda3\\envs\\myenv\\lib\\site-packages\\sklearn\\utils\\validation.py:1389\u001b[0m, in \u001b[0;36mcheck_X_y\u001b[1;34m(X, y, accept_sparse, accept_large_sparse, dtype, order, copy, force_writeable, force_all_finite, ensure_all_finite, ensure_2d, allow_nd, multi_output, ensure_min_samples, ensure_min_features, y_numeric, estimator)\u001b[0m\n\u001b[0;32m   1370\u001b[0m X \u001b[38;5;241m=\u001b[39m check_array(\n\u001b[0;32m   1371\u001b[0m     X,\n\u001b[0;32m   1372\u001b[0m     accept_sparse\u001b[38;5;241m=\u001b[39maccept_sparse,\n\u001b[1;32m   (...)\u001b[0m\n\u001b[0;32m   1384\u001b[0m     input_name\u001b[38;5;241m=\u001b[39m\u001b[38;5;124m\"\u001b[39m\u001b[38;5;124mX\u001b[39m\u001b[38;5;124m\"\u001b[39m,\n\u001b[0;32m   1385\u001b[0m )\n\u001b[0;32m   1387\u001b[0m y \u001b[38;5;241m=\u001b[39m _check_y(y, multi_output\u001b[38;5;241m=\u001b[39mmulti_output, y_numeric\u001b[38;5;241m=\u001b[39my_numeric, estimator\u001b[38;5;241m=\u001b[39mestimator)\n\u001b[1;32m-> 1389\u001b[0m \u001b[43mcheck_consistent_length\u001b[49m\u001b[43m(\u001b[49m\u001b[43mX\u001b[49m\u001b[43m,\u001b[49m\u001b[43m \u001b[49m\u001b[43my\u001b[49m\u001b[43m)\u001b[49m\n\u001b[0;32m   1391\u001b[0m \u001b[38;5;28;01mreturn\u001b[39;00m X, y\n",
      "File \u001b[1;32m~\\miniconda3\\envs\\myenv\\lib\\site-packages\\sklearn\\utils\\validation.py:475\u001b[0m, in \u001b[0;36mcheck_consistent_length\u001b[1;34m(*arrays)\u001b[0m\n\u001b[0;32m    473\u001b[0m uniques \u001b[38;5;241m=\u001b[39m np\u001b[38;5;241m.\u001b[39munique(lengths)\n\u001b[0;32m    474\u001b[0m \u001b[38;5;28;01mif\u001b[39;00m \u001b[38;5;28mlen\u001b[39m(uniques) \u001b[38;5;241m>\u001b[39m \u001b[38;5;241m1\u001b[39m:\n\u001b[1;32m--> 475\u001b[0m     \u001b[38;5;28;01mraise\u001b[39;00m \u001b[38;5;167;01mValueError\u001b[39;00m(\n\u001b[0;32m    476\u001b[0m         \u001b[38;5;124m\"\u001b[39m\u001b[38;5;124mFound input variables with inconsistent numbers of samples: \u001b[39m\u001b[38;5;132;01m%r\u001b[39;00m\u001b[38;5;124m\"\u001b[39m\n\u001b[0;32m    477\u001b[0m         \u001b[38;5;241m%\u001b[39m [\u001b[38;5;28mint\u001b[39m(l) \u001b[38;5;28;01mfor\u001b[39;00m l \u001b[38;5;129;01min\u001b[39;00m lengths]\n\u001b[0;32m    478\u001b[0m     )\n",
      "\u001b[1;31mValueError\u001b[0m: Found input variables with inconsistent numbers of samples: [322, 614]"
     ]
    }
   ],
   "source": [
    "import numpy as np\n",
    "\n",
    "# Remove rows with missing values in x_train and y_train\n",
    "x_train_clean, y_train_clean = x_train.dropna(), y_train.dropna()\n",
    "\n",
    "# Now fit the model\n",
    "svm_model.fit(x_train_clean, y_train_clean)\n"
   ]
  },
  {
   "cell_type": "code",
   "execution_count": 38,
   "id": "f62400af-567e-47ab-b94f-bf6527bf7a5c",
   "metadata": {},
   "outputs": [
    {
     "data": {
      "text/html": [
       "<style>#sk-container-id-1 {\n",
       "  /* Definition of color scheme common for light and dark mode */\n",
       "  --sklearn-color-text: #000;\n",
       "  --sklearn-color-text-muted: #666;\n",
       "  --sklearn-color-line: gray;\n",
       "  /* Definition of color scheme for unfitted estimators */\n",
       "  --sklearn-color-unfitted-level-0: #fff5e6;\n",
       "  --sklearn-color-unfitted-level-1: #f6e4d2;\n",
       "  --sklearn-color-unfitted-level-2: #ffe0b3;\n",
       "  --sklearn-color-unfitted-level-3: chocolate;\n",
       "  /* Definition of color scheme for fitted estimators */\n",
       "  --sklearn-color-fitted-level-0: #f0f8ff;\n",
       "  --sklearn-color-fitted-level-1: #d4ebff;\n",
       "  --sklearn-color-fitted-level-2: #b3dbfd;\n",
       "  --sklearn-color-fitted-level-3: cornflowerblue;\n",
       "\n",
       "  /* Specific color for light theme */\n",
       "  --sklearn-color-text-on-default-background: var(--sg-text-color, var(--theme-code-foreground, var(--jp-content-font-color1, black)));\n",
       "  --sklearn-color-background: var(--sg-background-color, var(--theme-background, var(--jp-layout-color0, white)));\n",
       "  --sklearn-color-border-box: var(--sg-text-color, var(--theme-code-foreground, var(--jp-content-font-color1, black)));\n",
       "  --sklearn-color-icon: #696969;\n",
       "\n",
       "  @media (prefers-color-scheme: dark) {\n",
       "    /* Redefinition of color scheme for dark theme */\n",
       "    --sklearn-color-text-on-default-background: var(--sg-text-color, var(--theme-code-foreground, var(--jp-content-font-color1, white)));\n",
       "    --sklearn-color-background: var(--sg-background-color, var(--theme-background, var(--jp-layout-color0, #111)));\n",
       "    --sklearn-color-border-box: var(--sg-text-color, var(--theme-code-foreground, var(--jp-content-font-color1, white)));\n",
       "    --sklearn-color-icon: #878787;\n",
       "  }\n",
       "}\n",
       "\n",
       "#sk-container-id-1 {\n",
       "  color: var(--sklearn-color-text);\n",
       "}\n",
       "\n",
       "#sk-container-id-1 pre {\n",
       "  padding: 0;\n",
       "}\n",
       "\n",
       "#sk-container-id-1 input.sk-hidden--visually {\n",
       "  border: 0;\n",
       "  clip: rect(1px 1px 1px 1px);\n",
       "  clip: rect(1px, 1px, 1px, 1px);\n",
       "  height: 1px;\n",
       "  margin: -1px;\n",
       "  overflow: hidden;\n",
       "  padding: 0;\n",
       "  position: absolute;\n",
       "  width: 1px;\n",
       "}\n",
       "\n",
       "#sk-container-id-1 div.sk-dashed-wrapped {\n",
       "  border: 1px dashed var(--sklearn-color-line);\n",
       "  margin: 0 0.4em 0.5em 0.4em;\n",
       "  box-sizing: border-box;\n",
       "  padding-bottom: 0.4em;\n",
       "  background-color: var(--sklearn-color-background);\n",
       "}\n",
       "\n",
       "#sk-container-id-1 div.sk-container {\n",
       "  /* jupyter's `normalize.less` sets `[hidden] { display: none; }`\n",
       "     but bootstrap.min.css set `[hidden] { display: none !important; }`\n",
       "     so we also need the `!important` here to be able to override the\n",
       "     default hidden behavior on the sphinx rendered scikit-learn.org.\n",
       "     See: https://github.com/scikit-learn/scikit-learn/issues/21755 */\n",
       "  display: inline-block !important;\n",
       "  position: relative;\n",
       "}\n",
       "\n",
       "#sk-container-id-1 div.sk-text-repr-fallback {\n",
       "  display: none;\n",
       "}\n",
       "\n",
       "div.sk-parallel-item,\n",
       "div.sk-serial,\n",
       "div.sk-item {\n",
       "  /* draw centered vertical line to link estimators */\n",
       "  background-image: linear-gradient(var(--sklearn-color-text-on-default-background), var(--sklearn-color-text-on-default-background));\n",
       "  background-size: 2px 100%;\n",
       "  background-repeat: no-repeat;\n",
       "  background-position: center center;\n",
       "}\n",
       "\n",
       "/* Parallel-specific style estimator block */\n",
       "\n",
       "#sk-container-id-1 div.sk-parallel-item::after {\n",
       "  content: \"\";\n",
       "  width: 100%;\n",
       "  border-bottom: 2px solid var(--sklearn-color-text-on-default-background);\n",
       "  flex-grow: 1;\n",
       "}\n",
       "\n",
       "#sk-container-id-1 div.sk-parallel {\n",
       "  display: flex;\n",
       "  align-items: stretch;\n",
       "  justify-content: center;\n",
       "  background-color: var(--sklearn-color-background);\n",
       "  position: relative;\n",
       "}\n",
       "\n",
       "#sk-container-id-1 div.sk-parallel-item {\n",
       "  display: flex;\n",
       "  flex-direction: column;\n",
       "}\n",
       "\n",
       "#sk-container-id-1 div.sk-parallel-item:first-child::after {\n",
       "  align-self: flex-end;\n",
       "  width: 50%;\n",
       "}\n",
       "\n",
       "#sk-container-id-1 div.sk-parallel-item:last-child::after {\n",
       "  align-self: flex-start;\n",
       "  width: 50%;\n",
       "}\n",
       "\n",
       "#sk-container-id-1 div.sk-parallel-item:only-child::after {\n",
       "  width: 0;\n",
       "}\n",
       "\n",
       "/* Serial-specific style estimator block */\n",
       "\n",
       "#sk-container-id-1 div.sk-serial {\n",
       "  display: flex;\n",
       "  flex-direction: column;\n",
       "  align-items: center;\n",
       "  background-color: var(--sklearn-color-background);\n",
       "  padding-right: 1em;\n",
       "  padding-left: 1em;\n",
       "}\n",
       "\n",
       "\n",
       "/* Toggleable style: style used for estimator/Pipeline/ColumnTransformer box that is\n",
       "clickable and can be expanded/collapsed.\n",
       "- Pipeline and ColumnTransformer use this feature and define the default style\n",
       "- Estimators will overwrite some part of the style using the `sk-estimator` class\n",
       "*/\n",
       "\n",
       "/* Pipeline and ColumnTransformer style (default) */\n",
       "\n",
       "#sk-container-id-1 div.sk-toggleable {\n",
       "  /* Default theme specific background. It is overwritten whether we have a\n",
       "  specific estimator or a Pipeline/ColumnTransformer */\n",
       "  background-color: var(--sklearn-color-background);\n",
       "}\n",
       "\n",
       "/* Toggleable label */\n",
       "#sk-container-id-1 label.sk-toggleable__label {\n",
       "  cursor: pointer;\n",
       "  display: flex;\n",
       "  width: 100%;\n",
       "  margin-bottom: 0;\n",
       "  padding: 0.5em;\n",
       "  box-sizing: border-box;\n",
       "  text-align: center;\n",
       "  align-items: start;\n",
       "  justify-content: space-between;\n",
       "  gap: 0.5em;\n",
       "}\n",
       "\n",
       "#sk-container-id-1 label.sk-toggleable__label .caption {\n",
       "  font-size: 0.6rem;\n",
       "  font-weight: lighter;\n",
       "  color: var(--sklearn-color-text-muted);\n",
       "}\n",
       "\n",
       "#sk-container-id-1 label.sk-toggleable__label-arrow:before {\n",
       "  /* Arrow on the left of the label */\n",
       "  content: \"▸\";\n",
       "  float: left;\n",
       "  margin-right: 0.25em;\n",
       "  color: var(--sklearn-color-icon);\n",
       "}\n",
       "\n",
       "#sk-container-id-1 label.sk-toggleable__label-arrow:hover:before {\n",
       "  color: var(--sklearn-color-text);\n",
       "}\n",
       "\n",
       "/* Toggleable content - dropdown */\n",
       "\n",
       "#sk-container-id-1 div.sk-toggleable__content {\n",
       "  max-height: 0;\n",
       "  max-width: 0;\n",
       "  overflow: hidden;\n",
       "  text-align: left;\n",
       "  /* unfitted */\n",
       "  background-color: var(--sklearn-color-unfitted-level-0);\n",
       "}\n",
       "\n",
       "#sk-container-id-1 div.sk-toggleable__content.fitted {\n",
       "  /* fitted */\n",
       "  background-color: var(--sklearn-color-fitted-level-0);\n",
       "}\n",
       "\n",
       "#sk-container-id-1 div.sk-toggleable__content pre {\n",
       "  margin: 0.2em;\n",
       "  border-radius: 0.25em;\n",
       "  color: var(--sklearn-color-text);\n",
       "  /* unfitted */\n",
       "  background-color: var(--sklearn-color-unfitted-level-0);\n",
       "}\n",
       "\n",
       "#sk-container-id-1 div.sk-toggleable__content.fitted pre {\n",
       "  /* unfitted */\n",
       "  background-color: var(--sklearn-color-fitted-level-0);\n",
       "}\n",
       "\n",
       "#sk-container-id-1 input.sk-toggleable__control:checked~div.sk-toggleable__content {\n",
       "  /* Expand drop-down */\n",
       "  max-height: 200px;\n",
       "  max-width: 100%;\n",
       "  overflow: auto;\n",
       "}\n",
       "\n",
       "#sk-container-id-1 input.sk-toggleable__control:checked~label.sk-toggleable__label-arrow:before {\n",
       "  content: \"▾\";\n",
       "}\n",
       "\n",
       "/* Pipeline/ColumnTransformer-specific style */\n",
       "\n",
       "#sk-container-id-1 div.sk-label input.sk-toggleable__control:checked~label.sk-toggleable__label {\n",
       "  color: var(--sklearn-color-text);\n",
       "  background-color: var(--sklearn-color-unfitted-level-2);\n",
       "}\n",
       "\n",
       "#sk-container-id-1 div.sk-label.fitted input.sk-toggleable__control:checked~label.sk-toggleable__label {\n",
       "  background-color: var(--sklearn-color-fitted-level-2);\n",
       "}\n",
       "\n",
       "/* Estimator-specific style */\n",
       "\n",
       "/* Colorize estimator box */\n",
       "#sk-container-id-1 div.sk-estimator input.sk-toggleable__control:checked~label.sk-toggleable__label {\n",
       "  /* unfitted */\n",
       "  background-color: var(--sklearn-color-unfitted-level-2);\n",
       "}\n",
       "\n",
       "#sk-container-id-1 div.sk-estimator.fitted input.sk-toggleable__control:checked~label.sk-toggleable__label {\n",
       "  /* fitted */\n",
       "  background-color: var(--sklearn-color-fitted-level-2);\n",
       "}\n",
       "\n",
       "#sk-container-id-1 div.sk-label label.sk-toggleable__label,\n",
       "#sk-container-id-1 div.sk-label label {\n",
       "  /* The background is the default theme color */\n",
       "  color: var(--sklearn-color-text-on-default-background);\n",
       "}\n",
       "\n",
       "/* On hover, darken the color of the background */\n",
       "#sk-container-id-1 div.sk-label:hover label.sk-toggleable__label {\n",
       "  color: var(--sklearn-color-text);\n",
       "  background-color: var(--sklearn-color-unfitted-level-2);\n",
       "}\n",
       "\n",
       "/* Label box, darken color on hover, fitted */\n",
       "#sk-container-id-1 div.sk-label.fitted:hover label.sk-toggleable__label.fitted {\n",
       "  color: var(--sklearn-color-text);\n",
       "  background-color: var(--sklearn-color-fitted-level-2);\n",
       "}\n",
       "\n",
       "/* Estimator label */\n",
       "\n",
       "#sk-container-id-1 div.sk-label label {\n",
       "  font-family: monospace;\n",
       "  font-weight: bold;\n",
       "  display: inline-block;\n",
       "  line-height: 1.2em;\n",
       "}\n",
       "\n",
       "#sk-container-id-1 div.sk-label-container {\n",
       "  text-align: center;\n",
       "}\n",
       "\n",
       "/* Estimator-specific */\n",
       "#sk-container-id-1 div.sk-estimator {\n",
       "  font-family: monospace;\n",
       "  border: 1px dotted var(--sklearn-color-border-box);\n",
       "  border-radius: 0.25em;\n",
       "  box-sizing: border-box;\n",
       "  margin-bottom: 0.5em;\n",
       "  /* unfitted */\n",
       "  background-color: var(--sklearn-color-unfitted-level-0);\n",
       "}\n",
       "\n",
       "#sk-container-id-1 div.sk-estimator.fitted {\n",
       "  /* fitted */\n",
       "  background-color: var(--sklearn-color-fitted-level-0);\n",
       "}\n",
       "\n",
       "/* on hover */\n",
       "#sk-container-id-1 div.sk-estimator:hover {\n",
       "  /* unfitted */\n",
       "  background-color: var(--sklearn-color-unfitted-level-2);\n",
       "}\n",
       "\n",
       "#sk-container-id-1 div.sk-estimator.fitted:hover {\n",
       "  /* fitted */\n",
       "  background-color: var(--sklearn-color-fitted-level-2);\n",
       "}\n",
       "\n",
       "/* Specification for estimator info (e.g. \"i\" and \"?\") */\n",
       "\n",
       "/* Common style for \"i\" and \"?\" */\n",
       "\n",
       ".sk-estimator-doc-link,\n",
       "a:link.sk-estimator-doc-link,\n",
       "a:visited.sk-estimator-doc-link {\n",
       "  float: right;\n",
       "  font-size: smaller;\n",
       "  line-height: 1em;\n",
       "  font-family: monospace;\n",
       "  background-color: var(--sklearn-color-background);\n",
       "  border-radius: 1em;\n",
       "  height: 1em;\n",
       "  width: 1em;\n",
       "  text-decoration: none !important;\n",
       "  margin-left: 0.5em;\n",
       "  text-align: center;\n",
       "  /* unfitted */\n",
       "  border: var(--sklearn-color-unfitted-level-1) 1pt solid;\n",
       "  color: var(--sklearn-color-unfitted-level-1);\n",
       "}\n",
       "\n",
       ".sk-estimator-doc-link.fitted,\n",
       "a:link.sk-estimator-doc-link.fitted,\n",
       "a:visited.sk-estimator-doc-link.fitted {\n",
       "  /* fitted */\n",
       "  border: var(--sklearn-color-fitted-level-1) 1pt solid;\n",
       "  color: var(--sklearn-color-fitted-level-1);\n",
       "}\n",
       "\n",
       "/* On hover */\n",
       "div.sk-estimator:hover .sk-estimator-doc-link:hover,\n",
       ".sk-estimator-doc-link:hover,\n",
       "div.sk-label-container:hover .sk-estimator-doc-link:hover,\n",
       ".sk-estimator-doc-link:hover {\n",
       "  /* unfitted */\n",
       "  background-color: var(--sklearn-color-unfitted-level-3);\n",
       "  color: var(--sklearn-color-background);\n",
       "  text-decoration: none;\n",
       "}\n",
       "\n",
       "div.sk-estimator.fitted:hover .sk-estimator-doc-link.fitted:hover,\n",
       ".sk-estimator-doc-link.fitted:hover,\n",
       "div.sk-label-container:hover .sk-estimator-doc-link.fitted:hover,\n",
       ".sk-estimator-doc-link.fitted:hover {\n",
       "  /* fitted */\n",
       "  background-color: var(--sklearn-color-fitted-level-3);\n",
       "  color: var(--sklearn-color-background);\n",
       "  text-decoration: none;\n",
       "}\n",
       "\n",
       "/* Span, style for the box shown on hovering the info icon */\n",
       ".sk-estimator-doc-link span {\n",
       "  display: none;\n",
       "  z-index: 9999;\n",
       "  position: relative;\n",
       "  font-weight: normal;\n",
       "  right: .2ex;\n",
       "  padding: .5ex;\n",
       "  margin: .5ex;\n",
       "  width: min-content;\n",
       "  min-width: 20ex;\n",
       "  max-width: 50ex;\n",
       "  color: var(--sklearn-color-text);\n",
       "  box-shadow: 2pt 2pt 4pt #999;\n",
       "  /* unfitted */\n",
       "  background: var(--sklearn-color-unfitted-level-0);\n",
       "  border: .5pt solid var(--sklearn-color-unfitted-level-3);\n",
       "}\n",
       "\n",
       ".sk-estimator-doc-link.fitted span {\n",
       "  /* fitted */\n",
       "  background: var(--sklearn-color-fitted-level-0);\n",
       "  border: var(--sklearn-color-fitted-level-3);\n",
       "}\n",
       "\n",
       ".sk-estimator-doc-link:hover span {\n",
       "  display: block;\n",
       "}\n",
       "\n",
       "/* \"?\"-specific style due to the `<a>` HTML tag */\n",
       "\n",
       "#sk-container-id-1 a.estimator_doc_link {\n",
       "  float: right;\n",
       "  font-size: 1rem;\n",
       "  line-height: 1em;\n",
       "  font-family: monospace;\n",
       "  background-color: var(--sklearn-color-background);\n",
       "  border-radius: 1rem;\n",
       "  height: 1rem;\n",
       "  width: 1rem;\n",
       "  text-decoration: none;\n",
       "  /* unfitted */\n",
       "  color: var(--sklearn-color-unfitted-level-1);\n",
       "  border: var(--sklearn-color-unfitted-level-1) 1pt solid;\n",
       "}\n",
       "\n",
       "#sk-container-id-1 a.estimator_doc_link.fitted {\n",
       "  /* fitted */\n",
       "  border: var(--sklearn-color-fitted-level-1) 1pt solid;\n",
       "  color: var(--sklearn-color-fitted-level-1);\n",
       "}\n",
       "\n",
       "/* On hover */\n",
       "#sk-container-id-1 a.estimator_doc_link:hover {\n",
       "  /* unfitted */\n",
       "  background-color: var(--sklearn-color-unfitted-level-3);\n",
       "  color: var(--sklearn-color-background);\n",
       "  text-decoration: none;\n",
       "}\n",
       "\n",
       "#sk-container-id-1 a.estimator_doc_link.fitted:hover {\n",
       "  /* fitted */\n",
       "  background-color: var(--sklearn-color-fitted-level-3);\n",
       "}\n",
       "</style><div id=\"sk-container-id-1\" class=\"sk-top-container\"><div class=\"sk-text-repr-fallback\"><pre>SVC(random_state=42)</pre><b>In a Jupyter environment, please rerun this cell to show the HTML representation or trust the notebook. <br />On GitHub, the HTML representation is unable to render, please try loading this page with nbviewer.org.</b></div><div class=\"sk-container\" hidden><div class=\"sk-item\"><div class=\"sk-estimator fitted sk-toggleable\"><input class=\"sk-toggleable__control sk-hidden--visually\" id=\"sk-estimator-id-1\" type=\"checkbox\" checked><label for=\"sk-estimator-id-1\" class=\"sk-toggleable__label fitted sk-toggleable__label-arrow\"><div><div>SVC</div></div><div><a class=\"sk-estimator-doc-link fitted\" rel=\"noreferrer\" target=\"_blank\" href=\"https://scikit-learn.org/1.6/modules/generated/sklearn.svm.SVC.html\">?<span>Documentation for SVC</span></a><span class=\"sk-estimator-doc-link fitted\">i<span>Fitted</span></span></div></label><div class=\"sk-toggleable__content fitted\"><pre>SVC(random_state=42)</pre></div> </div></div></div></div>"
      ],
      "text/plain": [
       "SVC(random_state=42)"
      ]
     },
     "execution_count": 38,
     "metadata": {},
     "output_type": "execute_result"
    }
   ],
   "source": [
    "from sklearn.impute import SimpleImputer\n",
    "\n",
    "# Impute missing values with the mean of each column\n",
    "imputer = SimpleImputer(strategy='mean')\n",
    "x_train_imputed = imputer.fit_transform(x_train)\n",
    "\n",
    "# Now fit the model\n",
    "svm_model.fit(x_train_imputed, y_train)\n"
   ]
  },
  {
   "cell_type": "markdown",
   "id": "374f818b-5309-41ea-a893-2b6a8dada6ac",
   "metadata": {},
   "source": [
    "# The step 8 It looks like you're facing a ValueError due to inconsistent numbers of samples in your features (x_train_clean) and target (y_train_clean) variables. The error happens because the number of rows in x_train_clean and y_train_clean does not match. This typically happens when you drop missing values (dropna()) from either x_train or y_train separately, leading to a mismatch in the number of rows."
   ]
  },
  {
   "cell_type": "markdown",
   "id": "90c9f865-679f-4abe-859f-c5575da95375",
   "metadata": {},
   "source": [
    "# step 8.1: Clean Training & Testing Data\n"
   ]
  },
  {
   "cell_type": "code",
   "execution_count": 39,
   "id": "3a274bcf-e9c8-402f-be80-ce4ede8cebb3",
   "metadata": {},
   "outputs": [],
   "source": [
    "#  What is pd.concat()?\n",
    "# pd.concat() is a Pandas function that means:\n",
    "# 👉 \"Stick two DataFrames together\" — either row-wise (axis=0) or column-wise (axis=1).\n",
    "#T hink of it like this:\n",
    "\n",
    "\n",
    "#Feature 1\t#Feature 2\tFeature 3\tOutcome\n",
    "#100         \t20\t    0.5\t       1\n",
    "# 120\t            25\t    0.7\t        0"
   ]
  },
  {
   "cell_type": "code",
   "execution_count": 40,
   "id": "92956fef-cbee-4812-b147-71ccb843e505",
   "metadata": {},
   "outputs": [],
   "source": [
    "train_data = pd.concat([x_train,y_train], axis = 1).dropna()\n",
    "test_data = pd.concat([x_test,y_test], axis = 1).dropna()\n",
    "\n",
    "x_train_clean = train_data.drop(columns=['Outcome'])\n",
    "y_train_clean = train_data['Outcome']\n",
    "\n",
    "\n",
    "x_test_clean = test_data.drop(columns=['Outcome'])\n",
    "y_test_clean = test_data['Outcome']\n",
    "\n",
    "\n",
    "\n"
   ]
  },
  {
   "cell_type": "markdown",
   "id": "0d5bd0dd-ded2-4609-81a6-30eda4bc6759",
   "metadata": {},
   "source": [
    "#  Step 8.2: Train & Predict with SVM\n",
    "\n"
   ]
  },
  {
   "cell_type": "code",
   "execution_count": 41,
   "id": "4ab22ba1-f5f3-448e-8b93-c9c8411d0886",
   "metadata": {},
   "outputs": [],
   "source": [
    "from sklearn.svm import SVC\n",
    "\n",
    "svm_model = SVC(kernel='rbf', random_state = 42)\n",
    "svm_model.fit(x_train_clean,y_train_clean)\n",
    "svm_preds = svm_model.predict(x_test_clean)"
   ]
  },
  {
   "cell_type": "markdown",
   "id": "39535468-4cbe-4cd2-801b-c0dc2ce27756",
   "metadata": {},
   "source": [
    "#  Step 8.3: Train & Predict with Random Forest"
   ]
  },
  {
   "cell_type": "code",
   "execution_count": 42,
   "id": "caf0dd87-96ad-49ed-91cd-c83747044903",
   "metadata": {},
   "outputs": [],
   "source": [
    "from sklearn.ensemble import RandomForestClassifier\n",
    "rf_model =  RandomForestClassifier(random_state=42)\n",
    "rf_model.fit(x_train_clean, y_train_clean)\n",
    "rf_preds = rf_model.predict(x_test_clean)"
   ]
  },
  {
   "cell_type": "markdown",
   "id": "ba96ae40-e51f-42b3-ad2b-34ff08071257",
   "metadata": {},
   "source": [
    "#  Step 8.4: Evaluate the Models"
   ]
  },
  {
   "cell_type": "code",
   "execution_count": 43,
   "id": "9cbcb9a4-8e03-441a-b34b-adb22142729e",
   "metadata": {},
   "outputs": [
    {
     "name": "stdout",
     "output_type": "stream",
     "text": [
      " SVM Accuracy: 0.7\n",
      "SVM Classification Report:\n",
      "               precision    recall  f1-score   support\n",
      "\n",
      "           0       0.76      0.84      0.80        49\n",
      "           1       0.50      0.38      0.43        21\n",
      "\n",
      "    accuracy                           0.70        70\n",
      "   macro avg       0.63      0.61      0.61        70\n",
      "weighted avg       0.68      0.70      0.69        70\n",
      "\n",
      "\n",
      " Random Forest Accuracy: 0.7285714285714285\n",
      "Random Forest Classification Report:\n",
      "               precision    recall  f1-score   support\n",
      "\n",
      "           0       0.80      0.82      0.81        49\n",
      "           1       0.55      0.52      0.54        21\n",
      "\n",
      "    accuracy                           0.73        70\n",
      "   macro avg       0.68      0.67      0.67        70\n",
      "weighted avg       0.72      0.73      0.73        70\n",
      "\n"
     ]
    }
   ],
   "source": [
    "from sklearn.metrics import accuracy_score, classification_report\n",
    "# svm preds\n",
    "print(\" SVM Accuracy:\", accuracy_score(y_test_clean, svm_preds))\n",
    "print(\"SVM Classification Report:\\n\", classification_report(y_test_clean, svm_preds))\n",
    "\n",
    "#rf \n",
    "print(\"\\n Random Forest Accuracy:\", accuracy_score(y_test_clean, rf_preds))\n",
    "print(\"Random Forest Classification Report:\\n\", classification_report(y_test_clean, rf_preds))\n",
    "\n",
    "      \n"
   ]
  },
  {
   "cell_type": "markdown",
   "id": "6e1f5048-2cbf-4c6b-a4a5-eb24317ad1b2",
   "metadata": {},
   "source": [
    "# Step 9: Hyperparameter Tuning and Cross-Validation\n",
    "Your models (SVM, RandomForest, etc.) have hyperparameters — like kernel, C, max_depth, n_estimators — which control how the model learns.\n",
    "\n",
    "Tuning = finding the best values\n",
    "Cross-validation = making sure your model performs well on unseen data\n"
   ]
  },
  {
   "cell_type": "markdown",
   "id": "2f033602-e9a0-4acf-b769-f644e3506e2e",
   "metadata": {},
   "source": [
    "#  Step 9.2: GridSearchCV for SVM"
   ]
  },
  {
   "cell_type": "code",
   "execution_count": 44,
   "id": "714ecb2c-2b4f-4823-b4ab-aa7c8d899482",
   "metadata": {},
   "outputs": [
    {
     "name": "stdout",
     "output_type": "stream",
     "text": [
      "True\n"
     ]
    }
   ],
   "source": [
    "import numpy as np\n",
    "\n",
    "print(np.any(np.isnan(x_train)))  # This will return True if there are NaNs\n"
   ]
  },
  {
   "cell_type": "code",
   "execution_count": 50,
   "id": "fddfa461-8b6d-438e-b0eb-e97a34756add",
   "metadata": {},
   "outputs": [
    {
     "name": "stdout",
     "output_type": "stream",
     "text": [
      "Fitting 5 folds for each of 162 candidates, totalling 810 fits\n",
      "Best parameters: {'bootstrap': False, 'max_depth': 10, 'min_samples_leaf': 4, 'min_samples_split': 2, 'n_estimators': 300}\n",
      "              precision    recall  f1-score   support\n",
      "\n",
      "           0       0.82      0.81      0.82       151\n",
      "           1       0.65      0.68      0.66        80\n",
      "\n",
      "    accuracy                           0.76       231\n",
      "   macro avg       0.74      0.74      0.74       231\n",
      "weighted avg       0.76      0.76      0.76       231\n",
      "\n"
     ]
    }
   ],
   "source": [
    "from sklearn.ensemble import RandomForestClassifier\n",
    "from sklearn.model_selection import GridSearchCV\n",
    "from sklearn.metrics import classification_report\n",
    "from sklearn.model_selection import train_test_split\n",
    "from sklearn.preprocessing import StandardScaler\n",
    "import pandas as pd\n",
    "\n",
    "# Load your dataset \n",
    "url = \"https://raw.githubusercontent.com/jbrownlee/Datasets/master/pima-indians-diabetes.data.csv\"\n",
    "columns = [\n",
    "    \"Pregnancies\", \"Glucose\", \"BloodPressure\", \"SkinThickness\",\n",
    "    \"Insulin\", \"BMI\", \"DiabetesPedigreeFunction\", \"Age\", \"Outcome\"\n",
    "]\n",
    "df = pd.read_csv(url, names=columns)\n",
    "\n",
    "# Preprocessing: Example for separating features and labels\n",
    "X = df.drop('Outcome', axis=1) \n",
    "y = df['Outcome']\n",
    "\n",
    "# Split the data into train and test sets\n",
    "X_train, X_test, y_train, y_test = train_test_split(X, y, test_size=0.3, random_state=42)\n",
    "\n",
    "# Standardize the data\n",
    "scaler = StandardScaler()\n",
    "X_train = scaler.fit_transform(X_train)\n",
    "X_test = scaler.transform(X_test)\n",
    "\n",
    "# Define the Random Forest model\n",
    "rf_model = RandomForestClassifier(random_state=42)\n",
    "\n",
    "# Define the parameter grid for Random Forest\n",
    "param_grid = {\n",
    "    'n_estimators': [100, 200, 300],  # Number of trees in the forest\n",
    "    'max_depth': [10, 20, None],  # Maximum depth of the tree\n",
    "    'min_samples_split': [2, 5, 10],  # Minimum samples required to split an internal node\n",
    "    'min_samples_leaf': [1, 2, 4],  # Minimum samples required to be at a leaf node\n",
    "    'bootstrap': [True, False],  # Whether bootstrap samples are used when building trees\n",
    "}\n",
    "\n",
    "# Create the GridSearchCV object for Random Forest\n",
    "grid_search_rf = GridSearchCV(estimator=rf_model, param_grid=param_grid, cv=5, n_jobs=-1, verbose=2)\n",
    "\n",
    "# Fit the model\n",
    "grid_search_rf.fit(X_train, y_train)\n",
    "\n",
    "# Get the best parameters\n",
    "print(f\"Best parameters: {grid_search_rf.best_params_}\")\n",
    "\n",
    "# Evaluate the best model on the test set\n",
    "best_rf_model = grid_search_rf.best_estimator_\n",
    "y_pred_rf = best_rf_model.predict(X_test)\n",
    "\n",
    "# Print the classification report\n",
    "print(classification_report(y_test, y_pred_rf))\n"
   ]
  },
  {
   "cell_type": "markdown",
   "id": "91b13b0c-ef85-480a-adfc-dc98a8fce31d",
   "metadata": {},
   "source": [
    "#  Step 9.3: GridSearchCV for Random Forest\n"
   ]
  },
  {
   "cell_type": "code",
   "execution_count": 48,
   "id": "aa54a636-09a8-478e-8a80-204a285ad732",
   "metadata": {},
   "outputs": [
    {
     "name": "stdout",
     "output_type": "stream",
     "text": [
      "Fitting 5 folds for each of 162 candidates, totalling 810 fits\n",
      "Best parameters: {'bootstrap': False, 'max_depth': 10, 'min_samples_leaf': 4, 'min_samples_split': 2, 'n_estimators': 300}\n",
      "              precision    recall  f1-score   support\n",
      "\n",
      "           0       0.82      0.81      0.82       151\n",
      "           1       0.65      0.68      0.66        80\n",
      "\n",
      "    accuracy                           0.76       231\n",
      "   macro avg       0.74      0.74      0.74       231\n",
      "weighted avg       0.76      0.76      0.76       231\n",
      "\n"
     ]
    }
   ],
   "source": [
    "# Assuming df is already loaded and preprocessed as we did before\n",
    "\n",
    "# Define the Random Forest model\n",
    "rf_model = RandomForestClassifier(random_state=42)\n",
    "\n",
    "# Define the parameter grid for Random Forest\n",
    "param_grid = {\n",
    "    'n_estimators': [100, 200, 300],  # Number of trees in the forest\n",
    "    'max_depth': [10, 20, None],  # Maximum depth of the tree\n",
    "    'min_samples_split': [2, 5, 10],  # Minimum samples required to split an internal node\n",
    "    'min_samples_leaf': [1, 2, 4],  # Minimum samples required to be at a leaf node\n",
    "    'bootstrap': [True, False],  # Whether bootstrap samples are used when building trees\n",
    "}\n",
    "\n",
    "# Create the GridSearchCV object for Random Forest\n",
    "grid_search_rf = GridSearchCV(estimator=rf_model, param_grid=param_grid, cv=5, n_jobs=-1, verbose=2)\n",
    "\n",
    "# Fit the model\n",
    "grid_search_rf.fit(X_train, y_train)\n",
    "\n",
    "# Get the best parameters\n",
    "print(f\"Best parameters: {grid_search_rf.best_params_}\")\n",
    "\n",
    "# Evaluate the best model on the test set\n",
    "best_rf_model = grid_search_rf.best_estimator_\n",
    "y_pred_rf = best_rf_model.predict(X_test)\n",
    "\n",
    "# Print the classification report\n",
    "print(classification_report(y_test, y_pred_rf))\n"
   ]
  },
  {
   "cell_type": "markdown",
   "id": "6d5d2d52-13d0-4261-a09a-07fac70078eb",
   "metadata": {},
   "source": [
    "# Step 10 save and load your model "
   ]
  },
  {
   "cell_type": "code",
   "execution_count": 51,
   "id": "773a2c40-678b-4111-9278-8b37988e0c66",
   "metadata": {},
   "outputs": [],
   "source": [
    "import joblib\n",
    "\n",
    "# Saving the best model\n",
    "joblib.dump(best_rf_model, 'random_forest_model.pkl')\n",
    "\n",
    "# Loading the model later for prediction\n",
    "loaded_model = joblib.load('random_forest_model.pkl')\n",
    "predictions = loaded_model.predict(X_test)\n"
   ]
  },
  {
   "cell_type": "code",
   "execution_count": null,
   "id": "6752a364-6c96-4c9f-88e3-4d01de266375",
   "metadata": {},
   "outputs": [],
   "source": []
  }
 ],
 "metadata": {
  "kernelspec": {
   "display_name": "Python 3 (ipykernel)",
   "language": "python",
   "name": "python3"
  },
  "language_info": {
   "codemirror_mode": {
    "name": "ipython",
    "version": 3
   },
   "file_extension": ".py",
   "mimetype": "text/x-python",
   "name": "python",
   "nbconvert_exporter": "python",
   "pygments_lexer": "ipython3",
   "version": "3.10.13"
  }
 },
 "nbformat": 4,
 "nbformat_minor": 5
}
